{
  "nbformat": 4,
  "nbformat_minor": 0,
  "metadata": {
    "colab": {
      "name": "break-bad.ipynb",
      "version": "0.3.2",
      "provenance": [],
      "collapsed_sections": [],
      "include_colab_link": true
    },
    "kernelspec": {
      "name": "python3",
      "display_name": "Python 3"
    },
    "accelerator": "GPU"
  },
  "cells": [
    {
      "cell_type": "markdown",
      "metadata": {
        "id": "view-in-github",
        "colab_type": "text"
      },
      "source": [
        "<a href=\"https://colab.research.google.com/github/amay1212/Breaking_Bad_Scripts-Generator/blob/master/break_bad.ipynb\" target=\"_parent\"><img src=\"https://colab.research.google.com/assets/colab-badge.svg\" alt=\"Open In Colab\"/></a>"
      ]
    },
    {
      "metadata": {
        "id": "N4Mn657kmhQJ",
        "colab_type": "code",
        "colab": {
          "base_uri": "https://localhost:8080/",
          "height": 121
        },
        "outputId": "57d2591c-c6f4-4d21-9da4-794b3296163f"
      },
      "cell_type": "code",
      "source": [
        "from google.colab import drive\n",
        "drive.mount('/content/drive')"
      ],
      "execution_count": 5,
      "outputs": [
        {
          "output_type": "stream",
          "text": [
            "Go to this URL in a browser: https://accounts.google.com/o/oauth2/auth?client_id=947318989803-6bn6qk8qdgf4n4g3pfee6491hc0brc4i.apps.googleusercontent.com&redirect_uri=urn%3Aietf%3Awg%3Aoauth%3A2.0%3Aoob&scope=email%20https%3A%2F%2Fwww.googleapis.com%2Fauth%2Fdocs.test%20https%3A%2F%2Fwww.googleapis.com%2Fauth%2Fdrive%20https%3A%2F%2Fwww.googleapis.com%2Fauth%2Fdrive.photos.readonly%20https%3A%2F%2Fwww.googleapis.com%2Fauth%2Fpeopleapi.readonly&response_type=code\n",
            "\n",
            "Enter your authorization code:\n",
            "··········\n",
            "Mounted at /content/drive\n"
          ],
          "name": "stdout"
        }
      ]
    },
    {
      "metadata": {
        "id": "fS4nZAYcOFn3",
        "colab_type": "code",
        "colab": {}
      },
      "cell_type": "code",
      "source": [
        "!cd /content/drive\n"
      ],
      "execution_count": 0,
      "outputs": []
    },
    {
      "metadata": {
        "id": "Cg5k66ofOblM",
        "colab_type": "code",
        "outputId": "e59a2ab9-e59b-4157-d14f-ad2e525cda1a",
        "colab": {
          "base_uri": "https://localhost:8080/",
          "height": 454
        }
      },
      "cell_type": "code",
      "source": [
        "#Reading all the files ....\n",
        "import pandas\n",
        "import string\n",
        "import re\n",
        "#Lets Break bad..\n",
        "import os\n",
        "path = '/content/drive/My Drive/Breaking_bad_gen'\n",
        "THIS_FOLDER = os.path.join('/' , path)\n",
        "print(THIS_FOLDER)\n",
        "process_docs(THIS_FOLDER)"
      ],
      "execution_count": 6,
      "outputs": [
        {
          "output_type": "stream",
          "text": [
            "/content/drive/My Drive/Breaking_bad_gen\n",
            "2780\n",
            "3644\n",
            "2945\n",
            "4062\n",
            "3023\n",
            "3544\n",
            "3266\n",
            "3494\n",
            "3629\n",
            "3585\n",
            "3486\n",
            "2677\n",
            "4498\n",
            "3571\n",
            "3231\n",
            "3847\n",
            "3141\n",
            "2515\n",
            "3796\n",
            "3212\n",
            "2912\n",
            "2969\n",
            "3237\n",
            "3348\n",
            "3312\n"
          ],
          "name": "stdout"
        }
      ]
    },
    {
      "metadata": {
        "id": "KhatUoBpteED",
        "colab_type": "code",
        "colab": {}
      },
      "cell_type": "code",
      "source": [
        "def generate_bad_sequence(all_bad_docs):\n",
        "  #print('Inside Bad Docs!!!!' , all_bad_docs)\n",
        "  sequences = []\n",
        "  tok_length = 51\n",
        "  for i in range(tok_length , len(all_bad_docs)):\n",
        "    #Lets cook meth..(Kidding:P)\n",
        "    #print(all_bad_docs[i])\n",
        "    seq = all_bad_docs[i - tok_length : i]\n",
        "    #print(seq)\n",
        "    #Combine all seq to line\n",
        "    sequences.append(' '.join(seq))\n",
        "    \n",
        "  \n",
        "  return sequences\n",
        "  \n",
        "  \n",
        "def save_bad_sequences_to_file (content , filename):\n",
        "  lines = '\\n'.join(content)\n",
        "  file = open(filename, 'w')\n",
        "  #print(lines)\n",
        "  file.write(lines)\n",
        "  file.close()\n",
        "  \n",
        " "
      ],
      "execution_count": 0,
      "outputs": []
    },
    {
      "metadata": {
        "id": "O3qb9scnZ1bt",
        "colab_type": "code",
        "colab": {}
      },
      "cell_type": "code",
      "source": [
        "\n",
        "def load_doc(one_bad_file):\n",
        "  file = open(one_bad_file, 'r')\n",
        "  #print('Reading text one by one....')\n",
        "  # read all text\n",
        "  text = file.read()\n",
        "  #print(text)\n",
        "  # close the file\n",
        "  file.close()\n",
        "  return text\n",
        "\n",
        "def clean_doc(raw_texts):\n",
        " \n",
        "  doc = raw_texts.replace('--', ' ')\n",
        "  # split into tokens by white space\n",
        "  tokens = doc.split()\n",
        "  # prepare regex for char filtering\n",
        "  re_punc = re.compile('[%s]' % re.escape(string.punctuation))\n",
        "  # remove punctuation from each word\n",
        "  tokens = [re_punc.sub('', w) for w in tokens]\n",
        "  # remove remaining tokens that are not alphabetic\n",
        "  tokens = [word for word in tokens if word.isalpha()]\n",
        "  # make lower case\n",
        "  tokens = [word.lower() for word in tokens]\n",
        "  print(len(tokens))\n",
        "  return tokens\n",
        "  #print(re_punc)\n",
        "  \n",
        "def process_docs(directory):\n",
        "  documents = []\n",
        "  bad_docs = []\n",
        "  # walk through all files in the folder\n",
        "  for filename in os.listdir(directory):\n",
        "  # create the full path of the file to open\n",
        "    path = os.path.join(directory , filename)\n",
        "    docs = load_doc(path)\n",
        "    cleaned = clean_doc(docs)\n",
        "    #print(cleaned)\n",
        "    \n",
        "    for data in cleaned:\n",
        "      #print(data)\n",
        "      bad_docs.append(data)\n",
        "    \n",
        "  \n",
        "  \n",
        "  \n",
        "  bad_sequences = generate_bad_sequence(bad_docs)\n",
        "  \n",
        "  save_bad_sequences_to_file(bad_sequences  , 'Bad_Sequences.txt')\n",
        "  "
      ],
      "execution_count": 0,
      "outputs": []
    },
    {
      "metadata": {
        "id": "vBBPeznOcTKK",
        "colab_type": "code",
        "colab": {}
      },
      "cell_type": "code",
      "source": [
        "!vi Bad_Sequences.txt"
      ],
      "execution_count": 0,
      "outputs": []
    },
    {
      "metadata": {
        "id": "lPHJjYdXhuoE",
        "colab_type": "code",
        "colab": {
          "base_uri": "https://localhost:8080/",
          "height": 34
        },
        "outputId": "86dda2eb-9957-49e1-c403-9d51767e0479"
      },
      "cell_type": "code",
      "source": [
        "\n",
        "from keras.preprocessing.text import Tokenizer\n",
        "from keras.utils.vis_utils import plot_model\n",
        "from keras.utils import to_categorical\n",
        "from keras.models import Sequential\n",
        "from keras.layers import Dense\n",
        "from keras.layers import LSTM\n",
        "from keras.layers import Embedding\n",
        "\n",
        "\n",
        "def define_model(vocab_size, seq_length):\n",
        "  model = Sequential()\n",
        "  model.add(Embedding(vocab_size, 50, input_length=seq_length))\n",
        "  model.add(LSTM(100, return_sequences=True))\n",
        "  model.add(LSTM(100))\n",
        "  model.add(Dense(100, activation='relu'))\n",
        "  model.add(Dense(vocab_size, activation='softmax'))\n",
        "  # compile network\n",
        "  model.compile(loss='categorical_crossentropy', optimizer='adam', metrics=['accuracy'])\n",
        "  # summarize defined model\n",
        "  model.summary()\n",
        "  plot_model(model, to_file='model.png', show_shapes=True)  \n",
        "  \n",
        "  return model\n",
        "\n",
        "\n"
      ],
      "execution_count": 7,
      "outputs": [
        {
          "output_type": "stream",
          "text": [
            "Using TensorFlow backend.\n"
          ],
          "name": "stderr"
        }
      ]
    },
    {
      "metadata": {
        "id": "SUwMoSmA6LvH",
        "colab_type": "code",
        "colab": {}
      },
      "cell_type": "code",
      "source": [
        "new_file_name = 'Bad_Sequences.txt'\n",
        "\n",
        "doc = load_doc(new_file_name)\n",
        "lines = doc.split('\\n')\n",
        "# integer encode sequences of words\n",
        "tokenizer = Tokenizer()\n",
        "tokenizer.fit_on_texts(lines)\n",
        "sequences = tokenizer.texts_to_sequences(lines)\n",
        "\n"
      ],
      "execution_count": 0,
      "outputs": []
    },
    {
      "metadata": {
        "id": "EJrTReW96R5I",
        "colab_type": "code",
        "colab": {
          "base_uri": "https://localhost:8080/",
          "height": 3800
        },
        "outputId": "a940d1fd-e687-40ed-f337-3181faef230d"
      },
      "cell_type": "code",
      "source": [
        "import numpy as np\n",
        "from pickle import dump\n",
        "vocab_size = len(tokenizer.word_index) + 1\n",
        "# separate into input and output\n",
        "sequences = np.array(sequences)\n",
        "X, y = sequences[:,:-1], sequences[:,-1]\n",
        "y = to_categorical(y, num_classes=vocab_size)\n",
        "seq_length = X.shape[1]\n",
        "print(seq_length)\n",
        "# define model\n",
        "model = define_model(vocab_size, seq_length)\n",
        "# fit model\n",
        "model.fit(X, y, batch_size=128, epochs=100)\n",
        "# save the model to file\n",
        "model.save('model.h5')\n",
        "# save the tokenizer\n",
        "dump(tokenizer, open('tokenizer.pkl', 'wb'))"
      ],
      "execution_count": 9,
      "outputs": [
        {
          "output_type": "stream",
          "text": [
            "50\n",
            "WARNING:tensorflow:From /usr/local/lib/python3.6/dist-packages/tensorflow/python/framework/op_def_library.py:263: colocate_with (from tensorflow.python.framework.ops) is deprecated and will be removed in a future version.\n",
            "Instructions for updating:\n",
            "Colocations handled automatically by placer.\n",
            "_________________________________________________________________\n",
            "Layer (type)                 Output Shape              Param #   \n",
            "=================================================================\n",
            "embedding_1 (Embedding)      (None, 50, 50)            332250    \n",
            "_________________________________________________________________\n",
            "lstm_1 (LSTM)                (None, 50, 100)           60400     \n",
            "_________________________________________________________________\n",
            "lstm_2 (LSTM)                (None, 100)               80400     \n",
            "_________________________________________________________________\n",
            "dense_1 (Dense)              (None, 100)               10100     \n",
            "_________________________________________________________________\n",
            "dense_2 (Dense)              (None, 6645)              671145    \n",
            "=================================================================\n",
            "Total params: 1,154,295\n",
            "Trainable params: 1,154,295\n",
            "Non-trainable params: 0\n",
            "_________________________________________________________________\n",
            "WARNING:tensorflow:From /usr/local/lib/python3.6/dist-packages/tensorflow/python/ops/math_ops.py:3066: to_int32 (from tensorflow.python.ops.math_ops) is deprecated and will be removed in a future version.\n",
            "Instructions for updating:\n",
            "Use tf.cast instead.\n",
            "Epoch 1/100\n",
            "83673/83673 [==============================] - 140s 2ms/step - loss: 6.5186 - acc: 0.0408\n",
            "Epoch 2/100\n",
            "83673/83673 [==============================] - 136s 2ms/step - loss: 6.1813 - acc: 0.0450\n",
            "Epoch 3/100\n",
            "83673/83673 [==============================] - 135s 2ms/step - loss: 5.9941 - acc: 0.0530\n",
            "Epoch 4/100\n",
            "83673/83673 [==============================] - 135s 2ms/step - loss: 5.8458 - acc: 0.0640\n",
            "Epoch 5/100\n",
            "83673/83673 [==============================] - 136s 2ms/step - loss: 5.7275 - acc: 0.0708\n",
            "Epoch 6/100\n",
            "83673/83673 [==============================] - 135s 2ms/step - loss: 5.6197 - acc: 0.0806\n",
            "Epoch 7/100\n",
            "83673/83673 [==============================] - 135s 2ms/step - loss: 5.5692 - acc: 0.0839\n",
            "Epoch 8/100\n",
            "83673/83673 [==============================] - 135s 2ms/step - loss: 5.4629 - acc: 0.0946\n",
            "Epoch 9/100\n",
            "83673/83673 [==============================] - 135s 2ms/step - loss: 5.3592 - acc: 0.1027\n",
            "Epoch 10/100\n",
            "83673/83673 [==============================] - 135s 2ms/step - loss: 5.2646 - acc: 0.1082\n",
            "Epoch 11/100\n",
            "83673/83673 [==============================] - 135s 2ms/step - loss: 5.1751 - acc: 0.1122\n",
            "Epoch 12/100\n",
            "83673/83673 [==============================] - 135s 2ms/step - loss: 5.0895 - acc: 0.1164\n",
            "Epoch 13/100\n",
            "83673/83673 [==============================] - 135s 2ms/step - loss: 5.0145 - acc: 0.1195\n",
            "Epoch 14/100\n",
            "83673/83673 [==============================] - 135s 2ms/step - loss: 4.9432 - acc: 0.1232\n",
            "Epoch 15/100\n",
            "83673/83673 [==============================] - 135s 2ms/step - loss: 4.8671 - acc: 0.1263\n",
            "Epoch 16/100\n",
            "83673/83673 [==============================] - 136s 2ms/step - loss: 4.8135 - acc: 0.1284\n",
            "Epoch 17/100\n",
            "83673/83673 [==============================] - 136s 2ms/step - loss: 4.8357 - acc: 0.1270\n",
            "Epoch 18/100\n",
            "83673/83673 [==============================] - 136s 2ms/step - loss: 4.7722 - acc: 0.1286\n",
            "Epoch 19/100\n",
            "83673/83673 [==============================] - 135s 2ms/step - loss: 4.6924 - acc: 0.1319\n",
            "Epoch 20/100\n",
            "83673/83673 [==============================] - 135s 2ms/step - loss: 4.6221 - acc: 0.1362\n",
            "Epoch 21/100\n",
            "83673/83673 [==============================] - 135s 2ms/step - loss: 4.5549 - acc: 0.1397\n",
            "Epoch 22/100\n",
            "83673/83673 [==============================] - 136s 2ms/step - loss: 4.4932 - acc: 0.1447\n",
            "Epoch 23/100\n",
            "83673/83673 [==============================] - 136s 2ms/step - loss: 4.4329 - acc: 0.1484\n",
            "Epoch 24/100\n",
            "83673/83673 [==============================] - 135s 2ms/step - loss: 4.3737 - acc: 0.1533\n",
            "Epoch 25/100\n",
            "83673/83673 [==============================] - 135s 2ms/step - loss: 4.3181 - acc: 0.1580\n",
            "Epoch 26/100\n",
            "83673/83673 [==============================] - 135s 2ms/step - loss: 4.2690 - acc: 0.1635\n",
            "Epoch 27/100\n",
            "83673/83673 [==============================] - 135s 2ms/step - loss: 4.2172 - acc: 0.1688\n",
            "Epoch 28/100\n",
            "83673/83673 [==============================] - 135s 2ms/step - loss: 4.1681 - acc: 0.1746\n",
            "Epoch 29/100\n",
            "83673/83673 [==============================] - 136s 2ms/step - loss: 4.1231 - acc: 0.1787\n",
            "Epoch 30/100\n",
            "83673/83673 [==============================] - 137s 2ms/step - loss: 4.0765 - acc: 0.1834\n",
            "Epoch 31/100\n",
            "83673/83673 [==============================] - 137s 2ms/step - loss: 4.0341 - acc: 0.1885\n",
            "Epoch 32/100\n",
            "83673/83673 [==============================] - 137s 2ms/step - loss: 3.9905 - acc: 0.1938\n",
            "Epoch 33/100\n",
            "83673/83673 [==============================] - 137s 2ms/step - loss: 3.9529 - acc: 0.1994\n",
            "Epoch 34/100\n",
            "83673/83673 [==============================] - 137s 2ms/step - loss: 3.9151 - acc: 0.2037\n",
            "Epoch 35/100\n",
            "83673/83673 [==============================] - 136s 2ms/step - loss: 3.8788 - acc: 0.2066\n",
            "Epoch 36/100\n",
            "83673/83673 [==============================] - 137s 2ms/step - loss: 3.8395 - acc: 0.2133\n",
            "Epoch 37/100\n",
            "83673/83673 [==============================] - 137s 2ms/step - loss: 3.8058 - acc: 0.2169\n",
            "Epoch 38/100\n",
            "83673/83673 [==============================] - 136s 2ms/step - loss: 3.7734 - acc: 0.2203\n",
            "Epoch 39/100\n",
            "83673/83673 [==============================] - 137s 2ms/step - loss: 3.7391 - acc: 0.2261\n",
            "Epoch 40/100\n",
            "83673/83673 [==============================] - 137s 2ms/step - loss: 3.7091 - acc: 0.2292\n",
            "Epoch 41/100\n",
            "83673/83673 [==============================] - 137s 2ms/step - loss: 3.6739 - acc: 0.2338\n",
            "Epoch 42/100\n",
            "83673/83673 [==============================] - 137s 2ms/step - loss: 3.6438 - acc: 0.2394\n",
            "Epoch 43/100\n",
            "83673/83673 [==============================] - 137s 2ms/step - loss: 3.6135 - acc: 0.2427\n",
            "Epoch 44/100\n",
            "83673/83673 [==============================] - 137s 2ms/step - loss: 3.5819 - acc: 0.2475\n",
            "Epoch 45/100\n",
            "83673/83673 [==============================] - 137s 2ms/step - loss: 3.5523 - acc: 0.2519\n",
            "Epoch 46/100\n",
            "83673/83673 [==============================] - 137s 2ms/step - loss: 3.5242 - acc: 0.2551\n",
            "Epoch 47/100\n",
            "83673/83673 [==============================] - 137s 2ms/step - loss: 3.4960 - acc: 0.2612\n",
            "Epoch 48/100\n",
            "83673/83673 [==============================] - 137s 2ms/step - loss: 3.4696 - acc: 0.2640\n",
            "Epoch 49/100\n",
            "83673/83673 [==============================] - 136s 2ms/step - loss: 3.4421 - acc: 0.2677\n",
            "Epoch 50/100\n",
            "83673/83673 [==============================] - 137s 2ms/step - loss: 3.4095 - acc: 0.2737\n",
            "Epoch 51/100\n",
            "83673/83673 [==============================] - 136s 2ms/step - loss: 3.3867 - acc: 0.2773\n",
            "Epoch 52/100\n",
            "83673/83673 [==============================] - 137s 2ms/step - loss: 3.3573 - acc: 0.2813\n",
            "Epoch 53/100\n",
            "83673/83673 [==============================] - 137s 2ms/step - loss: 3.3316 - acc: 0.2854\n",
            "Epoch 54/100\n",
            "83673/83673 [==============================] - 137s 2ms/step - loss: 3.3062 - acc: 0.2885\n",
            "Epoch 55/100\n",
            "83673/83673 [==============================] - 137s 2ms/step - loss: 3.2786 - acc: 0.2924\n",
            "Epoch 56/100\n",
            "83673/83673 [==============================] - 137s 2ms/step - loss: 3.2547 - acc: 0.2974\n",
            "Epoch 57/100\n",
            "83673/83673 [==============================] - 137s 2ms/step - loss: 3.2277 - acc: 0.3009\n",
            "Epoch 58/100\n",
            "83673/83673 [==============================] - 136s 2ms/step - loss: 3.2052 - acc: 0.3043\n",
            "Epoch 59/100\n",
            "83673/83673 [==============================] - 137s 2ms/step - loss: 3.1785 - acc: 0.3078\n",
            "Epoch 60/100\n",
            "83673/83673 [==============================] - 137s 2ms/step - loss: 3.1529 - acc: 0.3137\n",
            "Epoch 61/100\n",
            "83673/83673 [==============================] - 137s 2ms/step - loss: 3.1279 - acc: 0.3159\n",
            "Epoch 62/100\n",
            "83673/83673 [==============================] - 137s 2ms/step - loss: 3.1034 - acc: 0.3218\n",
            "Epoch 63/100\n",
            "83673/83673 [==============================] - 137s 2ms/step - loss: 3.0832 - acc: 0.3247\n",
            "Epoch 64/100\n",
            "83673/83673 [==============================] - 137s 2ms/step - loss: 3.0585 - acc: 0.3280\n",
            "Epoch 65/100\n",
            "83673/83673 [==============================] - 137s 2ms/step - loss: 3.0350 - acc: 0.3323\n",
            "Epoch 66/100\n",
            "83673/83673 [==============================] - 137s 2ms/step - loss: 3.0130 - acc: 0.3368\n",
            "Epoch 67/100\n",
            "83673/83673 [==============================] - 137s 2ms/step - loss: 2.9863 - acc: 0.3410\n",
            "Epoch 68/100\n",
            "83673/83673 [==============================] - 137s 2ms/step - loss: 2.9645 - acc: 0.3435\n",
            "Epoch 69/100\n",
            "83673/83673 [==============================] - 137s 2ms/step - loss: 2.9443 - acc: 0.3481\n",
            "Epoch 70/100\n",
            "83673/83673 [==============================] - 137s 2ms/step - loss: 2.9202 - acc: 0.3529\n",
            "Epoch 71/100\n",
            "83673/83673 [==============================] - 137s 2ms/step - loss: 2.8979 - acc: 0.3569\n",
            "Epoch 72/100\n",
            "83673/83673 [==============================] - 136s 2ms/step - loss: 2.8755 - acc: 0.3609\n",
            "Epoch 73/100\n",
            "83673/83673 [==============================] - 137s 2ms/step - loss: 2.8535 - acc: 0.3642\n",
            "Epoch 74/100\n",
            "83673/83673 [==============================] - 137s 2ms/step - loss: 2.8318 - acc: 0.3675\n",
            "Epoch 75/100\n",
            "83673/83673 [==============================] - 137s 2ms/step - loss: 2.8099 - acc: 0.3711\n",
            "Epoch 76/100\n",
            "83673/83673 [==============================] - 137s 2ms/step - loss: 2.7880 - acc: 0.3755\n",
            "Epoch 77/100\n",
            "83673/83673 [==============================] - 137s 2ms/step - loss: 2.7665 - acc: 0.3793\n",
            "Epoch 78/100\n",
            "83673/83673 [==============================] - 137s 2ms/step - loss: 2.7485 - acc: 0.3821\n",
            "Epoch 79/100\n",
            "83673/83673 [==============================] - 137s 2ms/step - loss: 2.7267 - acc: 0.3850\n",
            "Epoch 80/100\n",
            "83673/83673 [==============================] - 137s 2ms/step - loss: 2.7044 - acc: 0.3900\n",
            "Epoch 81/100\n",
            "83673/83673 [==============================] - 137s 2ms/step - loss: 2.6841 - acc: 0.3932\n",
            "Epoch 82/100\n",
            "83673/83673 [==============================] - 137s 2ms/step - loss: 2.6622 - acc: 0.3977\n",
            "Epoch 83/100\n",
            "83673/83673 [==============================] - 137s 2ms/step - loss: 2.6395 - acc: 0.4017\n",
            "Epoch 84/100\n",
            "83673/83673 [==============================] - 137s 2ms/step - loss: 2.6201 - acc: 0.4061\n",
            "Epoch 85/100\n",
            "83673/83673 [==============================] - 138s 2ms/step - loss: 2.5987 - acc: 0.4091\n",
            "Epoch 86/100\n",
            "83673/83673 [==============================] - 137s 2ms/step - loss: 2.5801 - acc: 0.4118\n",
            "Epoch 87/100\n",
            "83673/83673 [==============================] - 137s 2ms/step - loss: 2.5567 - acc: 0.4172\n",
            "Epoch 88/100\n",
            "83673/83673 [==============================] - 137s 2ms/step - loss: 2.5381 - acc: 0.4188\n",
            "Epoch 89/100\n",
            "83673/83673 [==============================] - 137s 2ms/step - loss: 2.5192 - acc: 0.4236\n",
            "Epoch 90/100\n",
            "83673/83673 [==============================] - 137s 2ms/step - loss: 2.4975 - acc: 0.4279\n",
            "Epoch 91/100\n",
            "83673/83673 [==============================] - 137s 2ms/step - loss: 2.4828 - acc: 0.4304\n",
            "Epoch 92/100\n",
            "83673/83673 [==============================] - 136s 2ms/step - loss: 2.4632 - acc: 0.4335\n",
            "Epoch 93/100\n",
            "83673/83673 [==============================] - 137s 2ms/step - loss: 2.4366 - acc: 0.4404\n",
            "Epoch 94/100\n",
            "83673/83673 [==============================] - 137s 2ms/step - loss: 2.4183 - acc: 0.4444\n",
            "Epoch 95/100\n",
            "83673/83673 [==============================] - 137s 2ms/step - loss: 2.4017 - acc: 0.4454\n",
            "Epoch 96/100\n",
            "83673/83673 [==============================] - 137s 2ms/step - loss: 2.3921 - acc: 0.4470\n",
            "Epoch 97/100\n",
            "83673/83673 [==============================] - 137s 2ms/step - loss: 2.3670 - acc: 0.4516\n",
            "Epoch 98/100\n",
            "83673/83673 [==============================] - 138s 2ms/step - loss: 2.3478 - acc: 0.4555\n",
            "Epoch 99/100\n",
            "83673/83673 [==============================] - 137s 2ms/step - loss: 2.3268 - acc: 0.4607\n",
            "Epoch 100/100\n",
            "83673/83673 [==============================] - 137s 2ms/step - loss: 2.3070 - acc: 0.4646\n"
          ],
          "name": "stdout"
        }
      ]
    },
    {
      "metadata": {
        "id": "JGybh4W021jZ",
        "colab_type": "code",
        "colab": {
          "base_uri": "https://localhost:8080/",
          "height": 162
        },
        "outputId": "128d20ce-a53e-40a7-9659-d060b9113a76"
      },
      "cell_type": "code",
      "source": [
        "model = load_model('model.h5')"
      ],
      "execution_count": 10,
      "outputs": [
        {
          "output_type": "error",
          "ename": "NameError",
          "evalue": "ignored",
          "traceback": [
            "\u001b[0;31m---------------------------------------------------------------------------\u001b[0m",
            "\u001b[0;31mNameError\u001b[0m                                 Traceback (most recent call last)",
            "\u001b[0;32m<ipython-input-10-d7950e9aea83>\u001b[0m in \u001b[0;36m<module>\u001b[0;34m()\u001b[0m\n\u001b[0;32m----> 1\u001b[0;31m \u001b[0mmodel\u001b[0m \u001b[0;34m=\u001b[0m \u001b[0mload_model\u001b[0m\u001b[0;34m(\u001b[0m\u001b[0;34m'model.h5'\u001b[0m\u001b[0;34m)\u001b[0m\u001b[0;34m\u001b[0m\u001b[0;34m\u001b[0m\u001b[0m\n\u001b[0m",
            "\u001b[0;31mNameError\u001b[0m: name 'load_model' is not defined"
          ]
        }
      ]
    },
    {
      "metadata": {
        "id": "9Xn1daLU22KX",
        "colab_type": "code",
        "colab": {}
      },
      "cell_type": "code",
      "source": [
        "from keras.models import load_model\n",
        "from pickle import load"
      ],
      "execution_count": 0,
      "outputs": []
    },
    {
      "metadata": {
        "id": "cDNyExSZ3CKm",
        "colab_type": "code",
        "colab": {}
      },
      "cell_type": "code",
      "source": [
        "model = load_model('model.h5')"
      ],
      "execution_count": 0,
      "outputs": []
    },
    {
      "metadata": {
        "id": "zyJJIG5a3JZn",
        "colab_type": "code",
        "colab": {}
      },
      "cell_type": "code",
      "source": [
        "tokenizer = load(open('tokenizer.pkl', 'rb'))"
      ],
      "execution_count": 0,
      "outputs": []
    },
    {
      "metadata": {
        "id": "9wV-rABX3N6s",
        "colab_type": "code",
        "colab": {}
      },
      "cell_type": "code",
      "source": [
        "# generate a sequence from a language model\n",
        "def generate_seq(model, tokenizer, seq_length, seed_text, n_words):\n",
        "  result = list()\n",
        "  in_text = seed_text\n",
        "  # generate a fixed number of words\n",
        "  for _ in range(n_words):\n",
        "  # encode the text as integer\n",
        "    encoded = tokenizer.texts_to_sequences([in_text])[0]\n",
        "  # truncate sequences to a fixed length\n",
        "    encoded = pad_sequences([encoded], maxlen=seq_length, truncating='pre')\n",
        "    # predict probabilities for each word\n",
        "    yhat = model.predict_classes(encoded, verbose=0)\n",
        "    # map predicted word index to word\n",
        "    out_word = ''\n",
        "    for word, index in tokenizer.word_index.items():\n",
        "      if index == yhat:\n",
        "        out_word = word\n",
        "        break\n",
        "    # append to input\n",
        "    in_text += ' ' + out_word\n",
        "    result.append(out_word)\n",
        "  return ' '.join(result)"
      ],
      "execution_count": 0,
      "outputs": []
    },
    {
      "metadata": {
        "id": "U4SSpATr4EwO",
        "colab_type": "code",
        "colab": {
          "base_uri": "https://localhost:8080/",
          "height": 87
        },
        "outputId": "e1051f62-d828-426b-f7f0-993914ab9853"
      },
      "cell_type": "code",
      "source": [
        "from random import randint\n",
        "from keras.preprocessing.sequence import pad_sequences\n",
        "new_file_name = 'Bad_Sequences.txt'\n",
        "\n",
        "doc = load_doc(new_file_name)\n",
        "lines = doc.split('\\n')\n",
        "# integer encode sequences of words\n",
        "seq_length = len(lines[0].split()) - 1\n",
        "# load the model\n",
        "model = load_model('model.h5')\n",
        "# load the tokenizer\n",
        "tokenizer = load(open('tokenizer.pkl', 'rb'))\n",
        "seed_text = lines[randint(0,len(lines))]\n",
        "print(seed_text + '\\n')\n",
        "# generate new text\n",
        "generated = generate_seq(model, tokenizer, seq_length, seed_text, 50)\n",
        "print(generated)"
      ],
      "execution_count": 25,
      "outputs": [
        {
          "output_type": "stream",
          "text": [
            "was talking about walt excuse me he admitted it he said he liked it walt i didnt think he had it in him its like hes not himself lately i mean why would anyone in their right mind choose not to do treatment especially when its completely paid for why is\n",
            "\n",
            "you drying out in their traffic with him hes a disappointment apparently operator look like you and i have to take a milf now what you got a good track and how many shots does that know what is i am bound for dinner scientific track cooked me a lot\n"
          ],
          "name": "stdout"
        }
      ]
    },
    {
      "metadata": {
        "id": "3U4D4Q164dNC",
        "colab_type": "code",
        "colab": {
          "base_uri": "https://localhost:8080/",
          "height": 54
        },
        "outputId": "20125342-8f0f-4a33-a5f5-6d488660549a"
      },
      "cell_type": "code",
      "source": [
        "generated"
      ],
      "execution_count": 21,
      "outputs": [
        {
          "output_type": "execute_result",
          "data": {
            "text/plain": [
              "'manage that well you talked about me and i can totally singing a ball sack yo what you are you doing on hand to our cable property yeah i dont know what you know you know what you need to do this thing someone took me same years vessel all'"
            ]
          },
          "metadata": {
            "tags": []
          },
          "execution_count": 21
        }
      ]
    },
    {
      "metadata": {
        "id": "MMyDxJtQ44-j",
        "colab_type": "code",
        "colab": {
          "base_uri": "https://localhost:8080/",
          "height": 54
        },
        "outputId": "054e2889-3428-4ac4-cc97-afcff18bf3f1"
      },
      "cell_type": "code",
      "source": [
        "tokenizer.word_index.items()"
      ],
      "execution_count": 22,
      "outputs": [
        {
          "output_type": "execute_result",
          "data": {
            "text/plain": [
              "dict_items([('you', 1), ('i', 2), ('the', 3), ('to', 4), ('a', 5), ('it', 6), ('and', 7), ('that', 8), ('what', 9), ('of', 10), ('is', 11), ('no', 12), ('this', 13), ('me', 14), ('in', 15), ('know', 16), ('just', 17), ('your', 18), ('on', 19), ('im', 20), ('right', 21), ('yeah', 22), ('all', 23), ('its', 24), ('for', 25), ('we', 26), ('my', 27), ('dont', 28), ('not', 29), ('do', 30), ('so', 31), ('like', 32), ('okay', 33), ('was', 34), ('be', 35), ('are', 36), ('he', 37), ('up', 38), ('have', 39), ('about', 40), ('here', 41), ('got', 42), ('out', 43), ('but', 44), ('hey', 45), ('get', 46), ('thats', 47), ('well', 48), ('with', 49), ('oh', 50), ('youre', 51), ('good', 52), ('at', 53), ('go', 54), ('how', 55), ('now', 56), ('him', 57), ('there', 58), ('were', 59), ('man', 60), ('mean', 61), ('come', 62), ('can', 63), ('one', 64), ('if', 65), ('think', 66), ('look', 67), ('some', 68), ('they', 69), ('gonna', 70), ('why', 71), ('or', 72), ('walt', 73), ('really', 74), ('hes', 75), ('want', 76), ('tell', 77), ('did', 78), ('as', 79), ('his', 80), ('need', 81), ('see', 82), ('say', 83), ('an', 84), ('back', 85), ('going', 86), ('yes', 87), ('time', 88), ('yo', 89), ('would', 90), ('something', 91), ('who', 92), ('ill', 93), ('been', 94), ('down', 95), ('take', 96), ('them', 97), ('way', 98), ('from', 99), ('will', 100), ('then', 101), ('us', 102), ('doing', 103), ('more', 104), ('when', 105), ('god', 106), ('didnt', 107), ('could', 108), ('hell', 109), ('sorry', 110), ('whats', 111), ('our', 112), ('please', 113), ('thank', 114), ('cant', 115), ('where', 116), ('jesse', 117), ('money', 118), ('skyler', 119), ('little', 120), ('theres', 121), ('guy', 122), ('make', 123), ('even', 124), ('thing', 125), ('call', 126), ('talk', 127), ('had', 128), ('off', 129), ('very', 130), ('maybe', 131), ('let', 132), ('two', 133), ('uh', 134), ('by', 135), ('much', 136), ('her', 137), ('sure', 138), ('because', 139), ('ive', 140), ('any', 141), ('she', 142), ('dad', 143), ('talking', 144), ('huh', 145), ('these', 146), ('am', 147), ('white', 148), ('said', 149), ('house', 150), ('work', 151), ('listen', 152), ('wanna', 153), ('phone', 154), ('too', 155), ('la', 156), ('give', 157), ('should', 158), ('wait', 159), ('big', 160), ('mr', 161), ('hank', 162), ('gotta', 163), ('name', 164), ('lets', 165), ('over', 166), ('only', 167), ('kind', 168), ('better', 169), ('anything', 170), ('last', 171), ('theyre', 172), ('those', 173), ('does', 174), ('day', 175), ('doesnt', 176), ('damn', 177), ('fine', 178), ('id', 179), ('walter', 180), ('home', 181), ('nothing', 182), ('thinking', 183), ('has', 184), ('saying', 185), ('baby', 186), ('leave', 187), ('thanks', 188), ('never', 189), ('told', 190), ('put', 191), ('keep', 192), ('actually', 193), ('shit', 194), ('into', 195), ('great', 196), ('first', 197), ('again', 198), ('nice', 199), ('than', 200), ('ever', 201), ('tuco', 202), ('family', 203), ('guess', 204), ('guys', 205), ('remember', 206), ('marie', 207), ('other', 208), ('son', 209), ('around', 210), ('help', 211), ('meth', 212), ('thought', 213), ('new', 214), ('bad', 215), ('still', 216), ('every', 217), ('business', 218), ('hello', 219), ('things', 220), ('which', 221), ('always', 222), ('deal', 223), ('cook', 224), ('ass', 225), ('jesus', 226), ('real', 227), ('through', 228), ('everything', 229), ('place', 230), ('feel', 231), ('old', 232), ('understand', 233), ('whatever', 234), ('enough', 235), ('left', 236), ('wrong', 237), ('cool', 238), ('wont', 239), ('people', 240), ('after', 241), ('try', 242), ('lot', 243), ('bitch', 244), ('next', 245), ('anyway', 246), ('youve', 247), ('may', 248), ('stop', 249), ('dude', 250), ('shes', 251), ('long', 252), ('aint', 253), ('else', 254), ('made', 255), ('coming', 256), ('trying', 257), ('hear', 258), ('another', 259), ('looking', 260), ('honey', 261), ('check', 262), ('found', 263), ('car', 264), ('door', 265), ('absolutely', 266), ('their', 267), ('find', 268), ('whole', 269), ('already', 270), ('hi', 271), ('today', 272), ('stuff', 273), ('came', 274), ('ask', 275), ('getting', 276), ('three', 277), ('pretty', 278), ('called', 279), ('own', 280), ('days', 281), ('um', 282), ('dead', 283), ('being', 284), ('morning', 285), ('done', 286), ('sir', 287), ('school', 288), ('before', 289), ('working', 290), ('wheres', 291), ('exactly', 292), ('mind', 293), ('head', 294), ('week', 295), ('shut', 296), ('turn', 297), ('isnt', 298), ('night', 299), ('seriously', 300), ('best', 301), ('love', 302), ('drug', 303), ('might', 304), ('sell', 305), ('second', 306), ('mom', 307), ('yet', 308), ('whos', 309), ('both', 310), ('supposed', 311), ('wanted', 312), ('police', 313), ('believe', 314), ('life', 315), ('stay', 316), ('start', 317), ('myself', 318), ('job', 319), ('cancer', 320), ('since', 321), ('cell', 322), ('half', 323), ('knows', 324), ('probably', 325), ('heisenberg', 326), ('went', 327), ('yourself', 328), ('least', 329), ('years', 330), ('matter', 331), ('meet', 332), ('skank', 333), ('happy', 334), ('idea', 335), ('high', 336), ('bring', 337), ('youll', 338), ('care', 339), ('sit', 340), ('someone', 341), ('wasnt', 342), ('news', 343), ('seen', 344), ('happened', 345), ('chemistry', 346), ('pay', 347), ('boy', 348), ('blue', 349), ('couldnt', 350), ('show', 351), ('minute', 352), ('having', 353), ('same', 354), ('away', 355), ('face', 356), ('weve', 357), ('elliott', 358), ('used', 359), ('couple', 360), ('run', 361), ('word', 362), ('course', 363), ('says', 364), ('stupid', 365), ('use', 366), ('hit', 367), ('totally', 368), ('badger', 369), ('ted', 370), ('side', 371), ('together', 372), ('dea', 373), ('havent', 374), ('times', 375), ('anybody', 376), ('easy', 377), ('hundred', 378), ('move', 379), ('gone', 380), ('buddy', 381), ('saul', 382), ('hand', 383), ('took', 384), ('pinkman', 385), ('until', 386), ('excuse', 387), ('pounds', 388), ('looks', 389), ('gretchen', 390), ('telling', 391), ('anyone', 392), ('cooking', 393), ('change', 394), ('rv', 395), ('goes', 396), ('definitely', 397), ('gave', 398), ('far', 399), ('buy', 400), ('entire', 401), ('making', 402), ('flynn', 403), ('heard', 404), ('inside', 405), ('ready', 406), ('thousand', 407), ('four', 408), ('while', 409), ('clean', 410), ('bye', 411), ('asking', 412), ('wouldnt', 413), ('end', 414), ('wife', 415), ('live', 416), ('five', 417), ('many', 418), ('everybody', 419), ('jr', 420), ('hard', 421), ('hold', 422), ('problem', 423), ('lab', 424), ('product', 425), ('weeks', 426), ('point', 427), ('world', 428), ('somebody', 429), ('kill', 430), ('serious', 431), ('hows', 432), ('straight', 433), ('saw', 434), ('lost', 435), ('without', 436), ('means', 437), ('cut', 438), ('months', 439), ('cash', 440), ('trust', 441), ('few', 442), ('wants', 443), ('cause', 444), ('anymore', 445), ('kid', 446), ('treatment', 447), ('welcome', 448), ('each', 449), ('mother', 450), ('most', 451), ('gets', 452), ('late', 453), ('tight', 454), ('front', 455), ('happen', 456), ('albuquerque', 457), ('schrader', 458), ('tomorrow', 459), ('calling', 460), ('clear', 461), ('town', 462), ('set', 463), ('plan', 464), ('open', 465), ('partner', 466), ('later', 467), ('taking', 468), ('sounds', 469), ('wow', 470), ('between', 471), ('birthday', 472), ('wish', 473), ('soon', 474), ('appreciate', 475), ('wake', 476), ('pot', 477), ('lately', 478), ('touch', 479), ('dollars', 480), ('under', 481), ('feeling', 482), ('hours', 483), ('louis', 484), ('story', 485), ('sighs', 486), ('message', 487), ('part', 488), ('eat', 489), ('water', 490), ('girl', 491), ('nobody', 492), ('once', 493), ('selling', 494), ('killed', 495), ('tonight', 496), ('heres', 497), ('shot', 498), ('gun', 499), ('happens', 500), ('either', 501), ('kids', 502), ('missing', 503), ('close', 504), ('ahead', 505), ('chuckles', 506), ('woman', 507), ('answer', 508), ('emilio', 509), ('brotherinlaw', 510), ('break', 511), ('asked', 512), ('luck', 513), ('desert', 514), ('six', 515), ('ago', 516), ('youd', 517), ('case', 518), ('grand', 519), ('kick', 520), ('sky', 521), ('el', 522), ('drive', 523), ('giving', 524), ('street', 525), ('crystal', 526), ('pick', 527), ('makes', 528), ('almost', 529), ('number', 530), ('dinner', 531), ('rest', 532), ('fact', 533), ('bullshit', 534), ('talked', 535), ('must', 536), ('gonzo', 537), ('sign', 538), ('low', 539), ('awesome', 540), ('contact', 541), ('hang', 542), ('everyone', 543), ('full', 544), ('road', 545), ('bag', 546), ('year', 547), ('speaking', 548), ('gas', 549), ('outside', 550), ('changed', 551), ('husband', 552), ('spend', 553), ('watch', 554), ('chance', 555), ('lives', 556), ('seeing', 557), ('eyes', 558), ('p', 559), ('skinny', 560), ('person', 561), ('dudes', 562), ('wendy', 563), ('congratulations', 564), ('paso', 565), ('cops', 566), ('beautiful', 567), ('l', 568), ('paid', 569), ('reason', 570), ('owe', 571), ('line', 572), ('running', 573), ('s', 574), ('fat', 575), ('less', 576), ('tried', 577), ('hope', 578), ('glad', 579), ('hair', 580), ('plus', 581), ('such', 582), ('mine', 583), ('offer', 584), ('none', 585), ('sound', 586), ('lose', 587), ('air', 588), ('hot', 589), ('uncle', 590), ('daughter', 591), ('speak', 592), ('month', 593), ('office', 594), ('ten', 595), ('smoke', 596), ('gomie', 597), ('blowfish', 598), ('lawyer', 599), ('positive', 600), ('sweetie', 601), ('junior', 602), ('sick', 603), ('safe', 604), ('words', 605), ('completely', 606), ('folks', 607), ('worry', 608), ('room', 609), ('hour', 610), ('longer', 611), ('return', 612), ('knew', 613), ('doctor', 614), ('yours', 615), ('methylamine', 616), ('party', 617), ('crap', 618), ('prison', 619), ('dealer', 620), ('order', 621), ('terrible', 622), ('waiting', 623), ('important', 624), ('seems', 625), ('situation', 626), ('play', 627), ('bathroom', 628), ('agent', 629), ('minutes', 630), ('brother', 631), ('though', 632), ('everythings', 633), ('finally', 634), ('alone', 635), ('process', 636), ('kidding', 637), ('operation', 638), ('aunt', 639), ('ones', 640), ('pound', 641), ('trouble', 642), ('million', 643), ('key', 644), ('truck', 645), ('criminal', 646), ('seat', 647), ('daddy', 648), ('also', 649), ('respect', 650), ('beer', 651), ('step', 652), ('maam', 653), ('hands', 654), ('bought', 655), ('mexico', 656), ('needs', 657), ('jane', 658), ('d', 659), ('machine', 660), ('brake', 661), ('continues', 662), ('driving', 663), ('mad', 664), ('mess', 665), ('apparently', 666), ('current', 667), ('level', 668), ('cousin', 669), ('lie', 670), ('attention', 671), ('fair', 672), ('excellent', 673), ('blood', 674), ('different', 675), ('however', 676), ('glass', 677), ('hungry', 678), ('carmen', 679), ('paper', 680), ('price', 681), ('pull', 682), ('grab', 683), ('forget', 684), ('top', 685), ('sometimes', 686), ('wondering', 687), ('lung', 688), ('questions', 689), ('ice', 690), ('g', 691), ('miles', 692), ('discuss', 693), ('flask', 694), ('truth', 695), ('comes', 696), ('holly', 697), ('anywhere', 698), ('slow', 699), ('certainly', 700), ('friend', 701), ('due', 702), ('bro', 703), ('beneke', 704), ('brandon', 705), ('mayhew', 706), ('b', 707), ('closes', 708), ('tio', 709), ('pants', 710), ('meeting', 711), ('shots', 712), ('calm', 713), ('mistake', 714), ('hurt', 715), ('promise', 716), ('issue', 717), ('heads', 718), ('marijuana', 719), ('quite', 720), ('bunch', 721), ('property', 722), ('send', 723), ('basement', 724), ('wearing', 725), ('e', 726), ('walts', 727), ('handle', 728), ('picked', 729), ('carbon', 730), ('write', 731), ('worked', 732), ('drop', 733), ('mrs', 734), ('bit', 735), ('hate', 736), ('beat', 737), ('till', 738), ('game', 739), ('across', 740), ('tv', 741), ('sitting', 742), ('against', 743), ('cannot', 744), ('father', 745), ('tough', 746), ('broke', 747), ('account', 748), ('keys', 749), ('jeez', 750), ('turns', 751), ('figure', 752), ('card', 753), ('drugs', 754), ('officer', 755), ('pseudo', 756), ('takes', 757), ('itll', 758), ('death', 759), ('nah', 760), ('friday', 761), ('shouldnt', 762), ('stand', 763), ('fault', 764), ('eye', 765), ('suit', 766), ('asshole', 767), ('black', 768), ('busy', 769), ('figured', 770), ('kept', 771), ('true', 772), ('except', 773), ('rain', 774), ('early', 775), ('somewhere', 776), ('weird', 777), ('christ', 778), ('bed', 779), ('track', 780), ('scared', 781), ('sleep', 782), ('using', 783), ('werent', 784), ('sort', 785), ('horse', 786), ('dealers', 787), ('battery', 788), ('goodman', 789), ('beeping', 790), ('taken', 791), ('choice', 792), ('bringing', 793), ('die', 794), ('yesterday', 795), ('acting', 796), ('decent', 797), ('brought', 798), ('body', 799), ('chemical', 800), ('bottom', 801), ('bet', 802), ('hospital', 803), ('weed', 804), ('buying', 805), ('hoping', 806), ('students', 807), ('consider', 808), ('sense', 809), ('caught', 810), ('moving', 811), ('barely', 812), ('piece', 813), ('names', 814), ('jack', 815), ('count', 816), ('along', 817), ('himself', 818), ('begin', 819), ('h', 820), ('dr', 821), ('problems', 822), ('dropped', 823), ('traffic', 824), ('keeping', 825), ('record', 826), ('table', 827), ('interest', 828), ('swear', 829), ('apologise', 830), ('quick', 831), ('toilet', 832), ('share', 833), ('enjoy', 834), ('j', 835), ('bucks', 836), ('breaking', 837), ('works', 838), ('list', 839), ('los', 840), ('cop', 841), ('cooked', 842), ('stealing', 843), ('personal', 844), ('river', 845), ('pass', 846), ('pain', 847), ('obviously', 848), ('turned', 849), ('known', 850), ('feet', 851), ('tiara', 852), ('bust', 853), ('heavy', 854), ('future', 855), ('mouth', 856), ('relax', 857), ('college', 858), ('teacher', 859), ('brain', 860), ('bonds', 861), ('careful', 862), ('green', 863), ('boys', 864), ('living', 865), ('border', 866), ('state', 867), ('helping', 868), ('health', 869), ('simple', 870), ('poor', 871), ('breath', 872), ('jimmy', 873), ('lay', 874), ('rehab', 875), ('em', 876), ('funny', 877), ('reached', 878), ('breakfast', 879), ('calls', 880), ('follow', 881), ('waste', 882), ('concerned', 883), ('deals', 884), ('favor', 885), ('starts', 886), ('secret', 887), ('spent', 888), ('perfect', 889), ('amazing', 890), ('rock', 891), ('dog', 892), ('anytime', 893), ('afternoon', 894), ('nowhere', 895), ('bond', 896), ('percent', 897), ('issues', 898), ('walk', 899), ('round', 900), ('yard', 901), ('weight', 902), ('roll', 903), ('law', 904), ('seven', 905), ('chill', 906), ('easier', 907), ('insurance', 908), ('explain', 909), ('light', 910), ('hurry', 911), ('middle', 912), ('energy', 913), ('notice', 914), ('happening', 915), ('hugo', 916), ('breathe', 917), ('able', 918), ('checked', 919), ('small', 920), ('perhaps', 921), ('grow', 922), ('pete', 923), ('worth', 924), ('deep', 925), ('understanding', 926), ('amount', 927), ('children', 928), ('address', 929), ('shower', 930), ('married', 931), ('proud', 932), ('legal', 933), ('cost', 934), ('expensive', 935), ('lunch', 936), ('bomb', 937), ('human', 938), ('short', 939), ('learn', 940), ('sister', 941), ('paint', 942), ('formula', 943), ('yep', 944), ('whatd', 945), ('willing', 946), ('red', 947), ('salamanca', 948), ('forgot', 949), ('gentlemen', 950), ('arent', 951), ('voice', 952), ('dollar', 953), ('certain', 954), ('fight', 955), ('hed', 956), ('bell', 957), ('city', 958), ('atm', 959), ('whoa', 960), ('wire', 961), ('laughs', 962), ('felt', 963), ('crash', 964), ('ringing', 965), ('woke', 966), ('affair', 967), ('worried', 968), ('read', 969), ('double', 970), ('awake', 971), ('interested', 972), ('birth', 973), ('corner', 974), ('beans', 975), ('listening', 976), ('reaction', 977), ('suppose', 978), ('coin', 979), ('question', 980), ('smoking', 981), ('legs', 982), ('doctors', 983), ('wonderful', 984), ('screw', 985), ('thatd', 986), ('crazy', 987), ('wonder', 988), ('santa', 989), ('fe', 990), ('keeps', 991), ('surprise', 992), ('catch', 993), ('holding', 994), ('turning', 995), ('playing', 996), ('lucky', 997), ('taste', 998), ('twice', 999), ('charity', 1000), ('picture', 1001), ('weekend', 1002), ('past', 1003), ('opinion', 1004), ('theyve', 1005), ('spot', 1006), ('recently', 1007), ('batch', 1008), ('during', 1009), ('methamphetamine', 1010), ('besides', 1011), ('tucos', 1012), ('system', 1013), ('heart', 1014), ('stopping', 1015), ('arrested', 1016), ('fired', 1017), ('currently', 1018), ('medical', 1019), ('illegal', 1020), ('earned', 1021), ('patient', 1022), ('mention', 1023), ('ran', 1024), ('lock', 1025), ('divorce', 1026), ('quarter', 1027), ('junkie', 1028), ('manager', 1029), ('floor', 1030), ('started', 1031), ('bastard', 1032), ('wash', 1033), ('unless', 1034), ('meant', 1035), ('bounce', 1036), ('met', 1037), ('center', 1038), ('actual', 1039), ('art', 1040), ('personally', 1041), ('food', 1042), ('tired', 1043), ('jackson', 1044), ('bills', 1045), ('combo', 1046), ('ground', 1047), ('website', 1048), ('usually', 1049), ('miss', 1050), ('company', 1051), ('accept', 1052), ('decision', 1053), ('spread', 1054), ('senor', 1055), ('nephew', 1056), ('juice', 1057), ('crushed', 1058), ('theyll', 1059), ('maintain', 1060), ('engine', 1061), ('remission', 1062), ('checking', 1063), ('expect', 1064), ('fun', 1065), ('grunting', 1066), ('moved', 1067), ('rings', 1068), ('disaster', 1069), ('beeps', 1070), ('margolis', 1071), ('groans', 1072), ('knocking', 1073), ('humming', 1074), ('shh', 1075), ('fucking', 1076), ('fire', 1077), ('finds', 1078), ('finish', 1079), ('class', 1080), ('photos', 1081), ('allowed', 1082), ('practically', 1083), ('loose', 1084), ('perfectly', 1085), ('pregnant', 1086), ('fit', 1087), ('plastic', 1088), ('feels', 1089), ('store', 1090), ('climb', 1091), ('individual', 1092), ('dig', 1093), ('killer', 1094), ('seemed', 1095), ('bowl', 1096), ('truly', 1097), ('spooge', 1098), ('knock', 1099), ('lik', 1100), ('offered', 1101), ('schwartz', 1102), ('advice', 1103), ('likes', 1104), ('fall', 1105), ('asleep', 1106), ('ounce', 1107), ('ball', 1108), ('bank', 1109), ('powder', 1110), ('magic', 1111), ('charge', 1112), ('finished', 1113), ('credit', 1114), ('deposit', 1115), ('faster', 1116), ('teach', 1117), ('difference', 1118), ('stage', 1119), ('loss', 1120), ('site', 1121), ('stacks', 1122), ('nearly', 1123), ('ounces', 1124), ('land', 1125), ('inventory', 1126), ('hanging', 1127), ('master', 1128), ('eight', 1129), ('crib', 1130), ('whered', 1131), ('ese', 1132), ('prove', 1133), ('major', 1134), ('busted', 1135), ('partners', 1136), ('hmm', 1137), ('information', 1138), ('department', 1139), ('moment', 1140), ('walking', 1141), ('color', 1142), ('public', 1143), ('mm', 1144), ('fear', 1145), ('mommy', 1146), ('wed', 1147), ('experience', 1148), ('supply', 1149), ('gift', 1150), ('particular', 1151), ('channel', 1152), ('beep', 1153), ('shop', 1154), ('smell', 1155), ('pure', 1156), ('relaxed', 1157), ('bite', 1158), ('total', 1159), ('iron', 1160), ('changing', 1161), ('female', 1162), ('worst', 1163), ('smells', 1164), ('skin', 1165), ('sweetheart', 1166), ('leg', 1167), ('arm', 1168), ('themselves', 1169), ('coughing', 1170), ('trade', 1171), ('study', 1172), ('owns', 1173), ('stick', 1174), ('ring', 1175), ('angry', 1176), ('plate', 1177), ('agents', 1178), ('chemicals', 1179), ('hire', 1180), ('local', 1181), ('mars', 1182), ('honestly', 1183), ('quiet', 1184), ('heat', 1185), ('station', 1186), ('hearing', 1187), ('dads', 1188), ('dave', 1189), ('option', 1190), ('control', 1191), ('large', 1192), ('c', 1193), ('behind', 1194), ('lies', 1195), ('eating', 1196), ('solid', 1197), ('sometime', 1198), ('hells', 1199), ('choose', 1200), ('agree', 1201), ('survive', 1202), ('scene', 1203), ('putting', 1204), ('schedule', 1205), ('friends', 1206), ('ride', 1207), ('plenty', 1208), ('gals', 1209), ('upset', 1210), ('boss', 1211), ('chinese', 1212), ('territory', 1213), ('act', 1214), ('foot', 1215), ('results', 1216), ('georgia', 1217), ('buzz', 1218), ('pulling', 1219), ('deserve', 1220), ('breathing', 1221), ('eighty', 1222), ('joking', 1223), ('looked', 1224), ('surgery', 1225), ('worse', 1226), ('alarm', 1227), ('groaning', 1228), ('mmm', 1229), ('grunts', 1230), ('ooh', 1231), ('south', 1232), ('coffee', 1233), ('cleaning', 1234), ('ways', 1235), ('girls', 1236), ('service', 1237), ('possible', 1238), ('sales', 1239), ('rolling', 1240), ('abq', 1241), ('tone', 1242), ('instance', 1243), ('free', 1244), ('distributor', 1245), ('seem', 1246), ('strong', 1247), ('messed', 1248), ('otherwise', 1249), ('knowing', 1250), ('sugar', 1251), ('lady', 1252), ('balls', 1253), ('feed', 1254), ('somehow', 1255), ('smoked', 1256), ('rules', 1257), ('flight', 1258), ('volume', 1259), ('stuck', 1260), ('probation', 1261), ('imagine', 1262), ('everybodys', 1263), ('speech', 1264), ('spin', 1265), ('savings', 1266), ('naked', 1267), ('dope', 1268), ('labour', 1269), ('extra', 1270), ('crime', 1271), ('shoot', 1272), ('paying', 1273), ('stands', 1274), ('size', 1275), ('bags', 1276), ('walked', 1277), ('rich', 1278), ('fuck', 1279), ('continue', 1280), ('yadda', 1281), ('gray', 1282), ('closed', 1283), ('customers', 1284), ('starting', 1285), ('radiation', 1286), ('pack', 1287), ('chemo', 1288), ('christmas', 1289), ('holy', 1290), ('writing', 1291), ('minus', 1292), ('teenth', 1293), ('risk', 1294), ('box', 1295), ('snitch', 1296), ('pocket', 1297), ('nuts', 1298), ('worries', 1299), ('sweat', 1300), ('punk', 1301), ('hiding', 1302), ('brilliant', 1303), ('sale', 1304), ('equipment', 1305), ('date', 1306), ('special', 1307), ('fantastic', 1308), ('country', 1309), ('vehicle', 1310), ('proper', 1311), ('insane', 1312), ('scan', 1313), ('movie', 1314), ('taco', 1315), ('orange', 1316), ('player', 1317), ('shopping', 1318), ('esmeralda', 1319), ('cheers', 1320), ('gold', 1321), ('ought', 1322), ('america', 1323), ('zacharys', 1324), ('biggest', 1325), ('showing', 1326), ('evidence', 1327), ('immediately', 1328), ('king', 1329), ('admit', 1330), ('homes', 1331), ('support', 1332), ('extremely', 1333), ('per', 1334), ('pictures', 1335), ('young', 1336), ('worlds', 1337), ('neither', 1338), ('teeth', 1339), ('bogdan', 1340), ('poison', 1341), ('administration', 1342), ('wind', 1343), ('furniture', 1344), ('settle', 1345), ('headed', 1346), ('fix', 1347), ('smart', 1348), ('growth', 1349), ('professional', 1350), ('men', 1351), ('ongoing', 1352), ('saturday', 1353), ('records', 1354), ('tells', 1355), ('ah', 1356), ('suspect', 1357), ('expected', 1358), ('usual', 1359), ('apply', 1360), ('garbage', 1361), ('cow', 1362), ('feds', 1363), ('thinks', 1364), ('cautious', 1365), ('correct', 1366), ('direct', 1367), ('bill', 1368), ('cover', 1369), ('speed', 1370), ('split', 1371), ('nine', 1372), ('kicked', 1373), ('rights', 1374), ('nights', 1375), ('suggest', 1376), ('jump', 1377), ('distribution', 1378), ('burn', 1379), ('score', 1380), ('hopeful', 1381), ('texas', 1382), ('k', 1383), ('freak', 1384), ('cloudy', 1385), ('wouldve', 1386), ('pillow', 1387), ('pissed', 1388), ('courtesy', 1389), ('effective', 1390), ('backup', 1391), ('jesses', 1392), ('hasnt', 1393), ('considering', 1394), ('field', 1395), ('stomach', 1396), ('funyuns', 1397), ('van', 1398), ('girlfriend', 1399), ('planet', 1400), ('screwed', 1401), ('garage', 1402), ('drink', 1403), ('rang', 1404), ('heisenbergs', 1405), ('cartel', 1406), ('killing', 1407), ('economy', 1408), ('normal', 1409), ('fish', 1410), ('spanish', 1411), ('hero', 1412), ('market', 1413), ('waits', 1414), ('okeeffe', 1415), ('museum', 1416), ('book', 1417), ('heading', 1418), ('stops', 1419), ('options', 1420), ('bottle', 1421), ('judgement', 1422), ('keller', 1423), ('arrest', 1424), ('gomez', 1425), ('throw', 1426), ('blackmail', 1427), ('hm', 1428), ('amazed', 1429), ('mel', 1430), ('bar', 1431), ('simply', 1432), ('radio', 1433), ('report', 1434), ('donations', 1435), ('zealand', 1436), ('possibly', 1437), ('debris', 1438), ('blame', 1439), ('staying', 1440), ('hums', 1441), ('conjecture', 1442), ('understood', 1443), ('distance', 1444), ('ear', 1445), ('freaking', 1446), ('representing', 1447), ('images', 1448), ('although', 1449), ('child', 1450), ('prepare', 1451), ('downstairs', 1452), ('sells', 1453), ('capable', 1454), ('mutual', 1455), ('cold', 1456), ('action', 1457), ('bodies', 1458), ('scenario', 1459), ('form', 1460), ('page', 1461), ('wynne', 1462), ('meat', 1463), ('private', 1464), ('warning', 1465), ('opportunity', 1466), ('awful', 1467), ('bathtub', 1468), ('spell', 1469), ('slinging', 1470), ('diesel', 1471), ('funeral', 1472), ('sixteen', 1473), ('saved', 1474), ('lived', 1475), ('hall', 1476), ('general', 1477), ('comfortable', 1478), ('peekaboo', 1479), ('whom', 1480), ('unfortunately', 1481), ('pockets', 1482), ('needle', 1483), ('smooth', 1484), ('dumbass', 1485), ('noticed', 1486), ('meal', 1487), ('bath', 1488), ('concerns', 1489), ('pride', 1490), ('drove', 1491), ('weak', 1492), ('dumb', 1493), ('monday', 1494), ('example', 1495), ('arms', 1496), ('helpful', 1497), ('walks', 1498), ('burning', 1499), ('helped', 1500), ('boonies', 1501), ('felony', 1502), ('third', 1503), ('grade', 1504), ('respirators', 1505), ('science', 1506), ('counting', 1507), ('hanks', 1508), ('brings', 1509), ('checks', 1510), ('scary', 1511), ('liar', 1512), ('nope', 1513), ('leaving', 1514), ('steal', 1515), ('details', 1516), ('dogs', 1517), ('canada', 1518), ('boiling', 1519), ('recovery', 1520), ('space', 1521), ('alive', 1522), ('scumbag', 1523), ('add', 1524), ('physical', 1525), ('manage', 1526), ('psycho', 1527), ('grams', 1528), ('cute', 1529), ('drinking', 1530), ('cocaine', 1531), ('heroin', 1532), ('counter', 1533), ('bound', 1534), ('delcavoli', 1535), ('lodge', 1536), ('sunday', 1537), ('shell', 1538), ('forever', 1539), ('stolen', 1540), ('duck', 1541), ('seconds', 1542), ('messages', 1543), ('families', 1544), ('yellow', 1545), ('oxygen', 1546), ('calcium', 1547), ('sodium', 1548), ('bus', 1549), ('missed', 1550), ('strictly', 1551), ('enemy', 1552), ('taught', 1553), ('cheese', 1554), ('dry', 1555), ('butt', 1556), ('miserable', 1557), ('shooting', 1558), ('pipe', 1559), ('church', 1560), ('football', 1561), ('root', 1562), ('quit', 1563), ('sandwich', 1564), ('offense', 1565), ('domingo', 1566), ('rather', 1567), ('someplace', 1568), ('unm', 1569), ('wrote', 1570), ('watching', 1571), ('interesting', 1572), ('accident', 1573), ('culture', 1574), ('soul', 1575), ('enforcement', 1576), ('pilot', 1577), ('bacon', 1578), ('technically', 1579), ('prefer', 1580), ('flat', 1581), ('windshield', 1582), ('warm', 1583), ('clearly', 1584), ('detail', 1585), ('forward', 1586), ('needed', 1587), ('staring', 1588), ('nothings', 1589), ('sage', 1590), ('bout', 1591), ('chili', 1592), ('license', 1593), ('gomey', 1594), ('curious', 1595), ('planning', 1596), ('rate', 1597), ('novel', 1598), ('complete', 1599), ('answers', 1600), ('volumetric', 1601), ('ridiculous', 1602), ('produce', 1603), ('safety', 1604), ('dress', 1605), ('chief', 1606), ('basic', 1607), ('meantime', 1608), ('lm', 1609), ('decide', 1610), ('timing', 1611), ('fast', 1612), ('force', 1613), ('forest', 1614), ('storage', 1615), ('sweet', 1616), ('recent', 1617), ('rent', 1618), ('dbaa', 1619), ('learning', 1620), ('candles', 1621), ('ladies', 1622), ('period', 1623), ('yourselves', 1624), ('mexican', 1625), ('cartels', 1626), ('robbed', 1627), ('fugue', 1628), ('anyways', 1629), ('toward', 1630), ('aisle', 1631), ('theyd', 1632), ('often', 1633), ('bullet', 1634), ('beaker', 1635), ('win', 1636), ('growing', 1637), ('especially', 1638), ('chemotherapy', 1639), ('honest', 1640), ('feelings', 1641), ('husbands', 1642), ('belongs', 1643), ('gunshot', 1644), ('wound', 1645), ('barrel', 1646), ('condition', 1647), ('partying', 1648), ('pal', 1649), ('answering', 1650), ('mark', 1651), ('sleeping', 1652), ('disappearance', 1653), ('within', 1654), ('tuesday', 1655), ('waffle', 1656), ('purest', 1657), ('disappeared', 1658), ('involved', 1659), ('everywhere', 1660), ('identify', 1661), ('crew', 1662), ('saint', 1663), ('sun', 1664), ('snap', 1665), ('accounting', 1666), ('whens', 1667), ('tortoise', 1668), ('singing', 1669), ('cheddar', 1670), ('fairly', 1671), ('facts', 1672), ('moms', 1673), ('ls', 1674), ('fly', 1675), ('gallons', 1676), ('forty', 1677), ('given', 1678), ('buzzer', 1679), ('buzzes', 1680), ('dirt', 1681), ('lying', 1682), ('pads', 1683), ('separated', 1684), ('tumour', 1685), ('bleed', 1686), ('nap', 1687), ('signed', 1688), ('upshot', 1689), ('stretch', 1690), ('poetic', 1691), ('backwards', 1692), ('donald', 1693), ('lt', 1694), ('indeed', 1695), ('kitchen', 1696), ('following', 1697), ('constitution', 1698), ('pizza', 1699), ('chances', 1700), ('client', 1701), ('arguing', 1702), ('court', 1703), ('associates', 1704), ('lead', 1705), ('associate', 1706), ('buzzing', 1707), ('bigger', 1708), ('james', 1709), ('pleasure', 1710), ('approaching', 1711), ('laughing', 1712), ('ahem', 1713), ('plane', 1714), ('mustve', 1715), ('m', 1716), ('cara', 1717), ('dmv', 1718), ('registered', 1719), ('ship', 1720), ('thirtyeight', 1721), ('sat', 1722), ('pepper', 1723), ('glasses', 1724), ('natural', 1725), ('newspaper', 1726), ('aircraft', 1727), ('mortgage', 1728), ('fussing', 1729), ('exhales', 1730), ('closet', 1731), ('mutters', 1732), ('tenerife', 1733), ('slams', 1734), ('sigh', 1735), ('chicken', 1736), ('christian', 1737), ('ortega', 1738), ('pin', 1739), ('chilli', 1740), ('boz', 1741), ('scaggs', 1742), ('parents', 1743), ('brakes', 1744), ('escalating', 1745), ('mint', 1746), ('debrief', 1747), ('attorney', 1748), ('bam', 1749), ('ditch', 1750), ('mug', 1751), ('flood', 1752), ('separate', 1753), ('cats', 1754), ('faculty', 1755), ('thursday', 1756), ('senior', 1757), ('suddenly', 1758), ('cleavage', 1759), ('type', 1760), ('ends', 1761), ('biatch', 1762), ('compounds', 1763), ('thalidomide', 1764), ('medicine', 1765), ('born', 1766), ('murder', 1767), ('midterm', 1768), ('knowledge', 1769), ('higher', 1770), ('starbucks', 1771), ('violence', 1772), ('businessman', 1773), ('therefore', 1774), ('tie', 1775), ('knocked', 1776), ('wheelchair', 1777), ('phosphine', 1778), ('acid', 1779), ('flip', 1780), ('education', 1781), ('dick', 1782), ('kiss', 1783), ('flipped', 1784), ('kinda', 1785), ('hilarious', 1786), ('ridealong', 1787), ('held', 1788), ('nut', 1789), ('stink', 1790), ('metal', 1791), ('named', 1792), ('alls', 1793), ('knife', 1794), ('loco', 1795), ('test', 1796), ('eleven', 1797), ('pieces', 1798), ('element', 1799), ('diamond', 1800), ('invented', 1801), ('tragedy', 1802), ('huge', 1803), ('offering', 1804), ('purse', 1805), ('empty', 1806), ('division', 1807), ('bullets', 1808), ('pussy', 1809), ('covered', 1810), ('boosted', 1811), ('witnesses', 1812), ('ed', 1813), ('persistence', 1814), ('allow', 1815), ('explanation', 1816), ('apology', 1817), ('apologised', 1818), ('millions', 1819), ('july', 1820), ('dream', 1821), ('build', 1822), ('abandoned', 1823), ('cutting', 1824), ('sounded', 1825), ('visit', 1826), ('driveway', 1827), ('appearances', 1828), ('concentrate', 1829), ('hole', 1830), ('enormous', 1831), ('explosion', 1832), ('explosions', 1833), ('mercury', 1834), ('pulled', 1835), ('cake', 1836), ('bulk', 1837), ('bum', 1838), ('rush', 1839), ('near', 1840), ('vice', 1841), ('glassware', 1842), ('erlenmeyer', 1843), ('ignore', 1844), ('lunas', 1845), ('turf', 1846), ('bump', 1847), ('kicks', 1848), ('hook', 1849), ('gs', 1850), ('background', 1851), ('profile', 1852), ('strike', 1853), ('search', 1854), ('apart', 1855), ('holes', 1856), ('threw', 1857), ('bigtime', 1858), ('stole', 1859), ('piss', 1860), ('nodoze', 1861), ('calma', 1862), ('sold', 1863), ('closing', 1864), ('manufacture', 1865), ('stone', 1866), ('responsible', 1867), ('dealing', 1868), ('whoever', 1869), ('lsd', 1870), ('appointment', 1871), ('owner', 1872), ('clown', 1873), ('smurfs', 1874), ('boxes', 1875), ('pet', 1876), ('helps', 1877), ('junkyard', 1878), ('cabeza', 1879), ('lunatic', 1880), ('leaves', 1881), ('production', 1882), ('wasting', 1883), ('bitches', 1884), ('older', 1885), ('nose', 1886), ('happily', 1887), ('wherever', 1888), ('adorable', 1889), ('several', 1890), ('president', 1891), ('hydrogen', 1892), ('locked', 1893), ('rip', 1894), ('security', 1895), ('ourselves', 1896), ('thermite', 1897), ('war', 1898), ('item', 1899), ('intend', 1900), ('tall', 1901), ('innocent', 1902), ('passed', 1903), ('estate', 1904), ('foreseeable', 1905), ('someones', 1906), ('scheduled', 1907), ('snuck', 1908), ('shoplifting', 1909), ('apologize', 1910), ('pink', 1911), ('steps', 1912), ('phosphorus', 1913), ('somethings', 1914), ('mostly', 1915), ('soda', 1916), ('upstairs', 1917), ('privacy', 1918), ('focus', 1919), ('babe', 1920), ('inferred', 1921), ('strongly', 1922), ('autopsy', 1923), ('overdose', 1924), ('palace', 1925), ('nasty', 1926), ('doubt', 1927), ('chemist', 1928), ('convince', 1929), ('studied', 1930), ('degree', 1931), ('music', 1932), ('star', 1933), ('tampico', 1934), ('commercials', 1935), ('bars', 1936), ('extended', 1937), ('warranty', 1938), ('conversation', 1939), ('broken', 1940), ('accidentally', 1941), ('sake', 1942), ('factory', 1943), ('guilt', 1944), ('molecules', 1945), ('ionic', 1946), ('register', 1947), ('toast', 1948), ('custody', 1949), ('streets', 1950), ('dent', 1951), ('unusual', 1952), ('sooner', 1953), ('bedroom', 1954), ('standing', 1955), ('bug', 1956), ('lean', 1957), ('fully', 1958), ('mustard', 1959), ('mix', 1960), ('cheer', 1961), ('howd', 1962), ('clue', 1963), ('eventually', 1964), ('chemically', 1965), ('toxic', 1966), ('negotiate', 1967), ('giant', 1968), ('age', 1969), ('bigboy', 1970), ('zip', 1971), ('artist', 1972), ('acceptable', 1973), ('super', 1974), ('scante', 1975), ('recommend', 1976), ('responded', 1977), ('included', 1978), ('sets', 1979), ('interdiction', 1980), ('promotion', 1981), ('gate', 1982), ('doable', 1983), ('fence', 1984), ('privileges', 1985), ('cable', 1986), ('former', 1987), ('unbelievable', 1988), ('express', 1989), ('solo', 1990), ('towel', 1991), ('homeys', 1992), ('greedy', 1993), ('tour', 1994), ('seventeen', 1995), ('mothers', 1996), ('southwest', 1997), ('junkies', 1998), ('breakage', 1999), ('negative', 2000), ('cigarettes', 2001), ('position', 2002), ('asset', 2003), ('helicopter', 2004), ('harder', 2005), ('shall', 2006), ('data', 2007), ('snot', 2008), ('trough', 2009), ('smelled', 2010), ('onto', 2011), ('crack', 2012), ('tunnel', 2013), ('couldve', 2014), ('intervention', 2015), ('genius', 2016), ('fluids', 2017), ('shootout', 2018), ('caused', 2019), ('supermarket', 2020), ('identified', 2021), ('monte', 2022), ('carlo', 2023), ('probable', 2024), ('shows', 2025), ('meaning', 2026), ('stroke', 2027), ('forgive', 2028), ('effects', 2029), ('stressed', 2030), ('takeout', 2031), ('vending', 2032), ('gee', 2033), ('pee', 2034), ('pervert', 2035), ('nonrecurring', 2036), ('permission', 2037), ('threatened', 2038), ('lameass', 2039), ('thirtyseven', 2040), ('sneaky', 2041), ('stopped', 2042), ('runnin', 2043), ('crossed', 2044), ('points', 2045), ('sons', 2046), ('reach', 2047), ('group', 2048), ('vanco', 2049), ('benekes', 2050), ('exponential', 2051), ('final', 2052), ('tortuga', 2053), ('turtle', 2054), ('riding', 2055), ('drunk', 2056), ('crunch', 2057), ('parttime', 2058), ('drawer', 2059), ('tattoos', 2060), ('sending', 2061), ('raise', 2062), ('wine', 2063), ('petct', 2064), ('numbers', 2065), ('laundering', 2066), ('circumstances', 2067), ('earn', 2068), ('gather', 2069), ('plans', 2070), ('losing', 2071), ('mantle', 2072), ('passengers', 2073), ('airport', 2074), ('assume', 2075), ('hits', 2076), ('workstation', 2077), ('ignition', 2078), ('shouldve', 2079), ('hooked', 2080), ('blew', 2081), ('arrows', 2082), ('phones', 2083), ('theoretically', 2084), ('push', 2085), ('managed', 2086), ('loser', 2087), ('device', 2088), ('galvanized', 2089), ('zinc', 2090), ('building', 2091), ('anode', 2092), ('cathode', 2093), ('electrolyte', 2094), ('reduction', 2095), ('cough', 2096), ('pneumonitis', 2097), ('common', 2098), ('secrets', 2099), ('gettogether', 2100), ('diagnosis', 2101), ('east', 2102), ('superpower', 2103), ('kangaman', 2104), ('realized', 2105), ('tenant', 2106), ('apologies', 2107), ('favour', 2108), ('rot', 2109), ('listed', 2110), ('flu', 2111), ('housing', 2112), ('inflation', 2113), ('matches', 2114), ('stores', 2115), ('brown', 2116), ('official', 2117), ('stepping', 2118), ('revenge', 2119), ('career', 2120), ('fifty', 2121), ('jail', 2122), ('honesttogod', 2123), ('present', 2124), ('laws', 2125), ('cashiers', 2126), ('highschool', 2127), ('francesca', 2128), ('english', 2129), ('served', 2130), ('mystery', 2131), ('desperate', 2132), ('ours', 2133), ('strangers', 2134), ('regardless', 2135), ('height', 2136), ('medium', 2137), ('provides', 2138), ('purpose', 2139), ('basically', 2140), ('lining', 2141), ('web', 2142), ('whispers', 2143), ('honk', 2144), ('refusing', 2145), ('investigation', 2146), ('potential', 2147), ('donation', 2148), ('registration', 2149), ('died', 2150), ('scoffs', 2151), ('combos', 2152), ('become', 2153), ('murdered', 2154), ('meetings', 2155), ('stock', 2156), ('restaurant', 2157), ('provide', 2158), ('addict', 2159), ('revenues', 2160), ('revenue', 2161), ('funds', 2162), ('lf', 2163), ('cousins', 2164), ('pollos', 2165), ('gus', 2166), ('hide', 2167), ('nobodys', 2168), ('breast', 2169), ('paypal', 2170), ('bouncing', 2171), ('pop', 2172), ('judging', 2173), ('wiggle', 2174), ('national', 2175), ('diapers', 2176), ('reports', 2177), ('crashed', 2178), ('collision', 2179), ('history', 2180), ('parts', 2181), ('clients', 2182), ('doorbell', 2183), ('lifting', 2184), ('clears', 2185), ('throat', 2186), ('dying', 2187), ('expert', 2188), ('blah', 2189), ('wakeup', 2190), ('gunfire', 2191), ('screaming', 2192), ('farm', 2193), ('eieio', 2194), ('trespassing', 2195), ('owned', 2196), ('dings', 2197), ('restraining', 2198), ('belong', 2199), ('began', 2200), ('spray', 2201), ('paul', 2202), ('muttering', 2203), ('fixing', 2204), ('dinging', 2205), ('reasons', 2206), ('margo', 2207), ('sent', 2208), ('depends', 2209), ('obvious', 2210), ('loved', 2211), ('journal', 2212), ('photo', 2213), ('descend', 2214), ('base', 2215), ('ricin', 2216), ('agitated', 2217), ('fiftyfifty', 2218), ('setting', 2219), ('decisions', 2220), ('janice', 2221), ('crossword', 2222), ('puzzles', 2223), ('oncology', 2224), ('sudden', 2225), ('grateful', 2226), ('dump', 2227), ('park', 2228), ('overnight', 2229), ('paths', 2230), ('topic', 2231), ('photographer', 2232), ('necessarily', 2233), ('hires', 2234), ('joan', 2235), ('pancakes', 2236), ('wonderbra', 2237), ('shitting', 2238), ('term', 2239), ('chiral', 2240), ('mirror', 2241), ('opposite', 2242), ('forms', 2243), ('isomer', 2244), ('horrible', 2245), ('precisely', 2246), ('chirality', 2247), ('ben', 2248), ('mainly', 2249), ('selfinterest', 2250), ('dear', 2251), ('hopes', 2252), ('faking', 2253), ('weapons', 2254), ('weapon', 2255), ('opened', 2256), ('dare', 2257), ('begging', 2258), ('scientist', 2259), ('immediate', 2260), ('tails', 2261), ('container', 2262), ('ldpe', 2263), ('hydrofluoric', 2264), ('skipped', 2265), ('deny', 2266), ('discussing', 2267), ('druggie', 2268), ('hood', 2269), ('touching', 2270), ('threaten', 2271), ('dreamt', 2272), ('load', 2273), ('admitting', 2274), ('boohoo', 2275), ('dragging', 2276), ('tub', 2277), ('stacking', 2278), ('spelling', 2279), ('bury', 2280), ('mucho', 2281), ('mailbox', 2282), ('receive', 2283), ('ultimate', 2284), ('steel', 2285), ('knives', 2286), ('possess', 2287), ('teaching', 2288), ('officially', 2289), ('remembered', 2290), ('disconnected', 2291), ('catching', 2292), ('centre', 2293), ('principal', 2294), ('synthetic', 2295), ('diamonds', 2296), ('oil', 2297), ('u', 2298), ('carbonbased', 2299), ('confidential', 2300), ('original', 2301), ('strip', 2302), ('scorpions', 2303), ('bald', 2304), ('repay', 2305), ('hopefully', 2306), ('shoes', 2307), ('cranial', 2308), ('toke', 2309), ('painful', 2310), ('lift', 2311), ('victimless', 2312), ('throwing', 2313), ('regret', 2314), ('unfortunate', 2315), ('covering', 2316), ('skylers', 2317), ('saving', 2318), ('waving', 2319), ('chequebook', 2320), ('innocence', 2321), ('packing', 2322), ('herself', 2323), ('beating', 2324), ('bush', 2325), ('tossed', 2326), ('decline', 2327), ('economys', 2328), ('banks', 2329), ('verge', 2330), ('pie', 2331), ('silent', 2332), ('handful', 2333), ('quickly', 2334), ('substances', 2335), ('interact', 2336), ('generates', 2337), ('hint', 2338), ('prime', 2339), ('chapter', 2340), ('accepting', 2341), ('target', 2342), ('lymph', 2343), ('nodes', 2344), ('skills', 2345), ('lack', 2346), ('quantity', 2347), ('salesmanship', 2348), ('o', 2349), ('highlevel', 2350), ('risky', 2351), ('intro', 2352), ('vouch', 2353), ('visitor', 2354), ('onion', 2355), ('cry', 2356), ('workrelated', 2357), ('buzzards', 2358), ('wall', 2359), ('storeroom', 2360), ('staff', 2361), ('sparse', 2362), ('milliliter', 2363), ('w', 2364), ('sack', 2365), ('expecting', 2366), ('mule', 2367), ('wrapped', 2368), ('moves', 2369), ('crowd', 2370), ('arresting', 2371), ('archuleta', 2372), ('mail', 2373), ('blues', 2374), ('gear', 2375), ('searched', 2376), ('thief', 2377), ('warrant', 2378), ('rap', 2379), ('flush', 2380), ('falling', 2381), ('dialing', 2382), ('suffering', 2383), ('rob', 2384), ('orale', 2385), ('apd', 2386), ('highest', 2387), ('theft', 2388), ('receiving', 2389), ('unturned', 2390), ('persons', 2391), ('hiring', 2392), ('policies', 2393), ('entering', 2394), ('protect', 2395), ('searches', 2396), ('district', 2397), ('kjeldahlstyle', 2398), ('knee', 2399), ('media', 2400), ('shade', 2401), ('club', 2402), ('bones', 2403), ('zeroing', 2404), ('brandnew', 2405), ('recreational', 2406), ('wised', 2407), ('scale', 2408), ('drugstores', 2409), ('sexual', 2410), ('alternative', 2411), ('healing', 2412), ('outlook', 2413), ('comfort', 2414), ('expectations', 2415), ('enlighten', 2416), ('mall', 2417), ('bleeding', 2418), ('argue', 2419), ('capital', 2420), ('investment', 2421), ('motherfucker', 2422), ('weekly', 2423), ('owing', 2424), ('pills', 2425), ('tube', 2426), ('items', 2427), ('challenging', 2428), ('thorium', 2429), ('pronounce', 2430), ('aged', 2431), ('handsome', 2432), ('shania', 2433), ('twain', 2434), ('wrapping', 2435), ('exciting', 2436), ('sparkly', 2437), ('cuban', 2438), ('fbi', 2439), ('draw', 2440), ('whyd', 2441), ('friggin', 2442), ('gertrude', 2443), ('nob', 2444), ('hill', 2445), ('diaper', 2446), ('navajo', 2447), ('lungs', 2448), ('sweating', 2449), ('doors', 2450), ('charging', 2451), ('ii', 2452), ('gustav', 2453), ('tons', 2454), ('hitting', 2455), ('destroy', 2456), ('likely', 2457), ('receipt', 2458), ('wilson', 2459), ('press', 2460), ('charges', 2461), ('passes', 2462), ('crapper', 2463), ('carry', 2464), ('temperature', 2465), ('degrees', 2466), ('paranoid', 2467), ('accused', 2468), ('returning', 2469), ('occupied', 2470), ('sacred', 2471), ('refuses', 2472), ('nitrogen', 2473), ('trace', 2474), ('elements', 2475), ('adds', 2476), ('supposedly', 2477), ('soup', 2478), ('stoner', 2479), ('character', 2480), ('rember', 2481), ('dioxide', 2482), ('grape', 2483), ('retarded', 2484), ('unlock', 2485), ('pinch', 2486), ('instructions', 2487), ('stories', 2488), ('scare', 2489), ('pair', 2490), ('methheads', 2491), ('gateway', 2492), ('scout', 2493), ('earful', 2494), ('liked', 2495), ('parties', 2496), ('promises', 2497), ('pops', 2498), ('latenight', 2499), ('sing', 2500), ('moronic', 2501), ('women', 2502), ('weather', 2503), ('tracks', 2504), ('trap', 2505), ('hartwell', 2506), ('goodbye', 2507), ('veggie', 2508), ('zero', 2509), ('dicking', 2510), ('heater', 2511), ('fake', 2512), ('levels', 2513), ('shorthanded', 2514), ('tires', 2515), ('shine', 2516), ('milk', 2517), ('hearts', 2518), ('na', 2519), ('zdorovje', 2520), ('placed', 2521), ('outstanding', 2522), ('fellow', 2523), ('resulted', 2524), ('suspects', 2525), ('someday', 2526), ('alamos', 2527), ('chest', 2528), ('greatest', 2529), ('inoperable', 2530), ('mastercard', 2531), ('wipedowns', 2532), ('pottery', 2533), ('barn', 2534), ('capn', 2535), ('mexicans', 2536), ('captain', 2537), ('beaner', 2538), ('copy', 2539), ('whiff', 2540), ('koyama', 2541), ('sucker', 2542), ('speeches', 2543), ('damned', 2544), ('collection', 2545), ('midlife', 2546), ('crisis', 2547), ('griffin', 2548), ('de', 2549), ('setup', 2550), ('emergency', 2551), ('fumes', 2552), ('places', 2553), ('depressed', 2554), ('affects', 2555), ('jeans', 2556), ('style', 2557), ('wear', 2558), ('loaf', 2559), ('cows', 2560), ('clothes', 2561), ('smelling', 2562), ('chef', 2563), ('proceed', 2564), ('train', 2565), ('finest', 2566), ('sticking', 2567), ('neighbor', 2568), ('tick', 2569), ('cap', 2570), ('shame', 2571), ('recipe', 2572), ('presence', 2573), ('cueball', 2574), ('discount', 2575), ('reminder', 2576), ('payment', 2577), ('available', 2578), ('mri', 2579), ('roaches', 2580), ('urban', 2581), ('finding', 2582), ('chain', 2583), ('suckers', 2584), ('prey', 2585), ('task', 2586), ('celebrate', 2587), ('ugly', 2588), ('surprised', 2589), ('morons', 2590), ('ricky', 2591), ('sand', 2592), ('balance', 2593), ('scratch', 2594), ('lawn', 2595), ('painted', 2596), ('utilities', 2597), ('fan', 2598), ('employer', 2599), ('pen', 2600), ('fee', 2601), ('blow', 2602), ('thatll', 2603), ('blink', 2604), ('cave', 2605), ('fraction', 2606), ('deas', 2607), ('eager', 2608), ('responsibilities', 2609), ('financing', 2610), ('choices', 2611), ('snort', 2612), ('dis', 2613), ('lines', 2614), ('vote', 2615), ('unknown', 2616), ('trunk', 2617), ('knees', 2618), ('casa', 2619), ('plasma', 2620), ('sharper', 2621), ('blacks', 2622), ('buck', 2623), ('jobs', 2624), ('refreshments', 2625), ('blind', 2626), ('mofos', 2627), ('armpit', 2628), ('gods', 2629), ('litter', 2630), ('condo', 2631), ('georgetown', 2632), ('hadnt', 2633), ('punishing', 2634), ('fridge', 2635), ('guessing', 2636), ('math', 2637), ('fool', 2638), ('season', 2639), ('lord', 2640), ('skull', 2641), ('tucked', 2642), ('sakes', 2643), ('misunderstanding', 2644), ('upstanding', 2645), ('pseudos', 2646), ('channels', 2647), ('pressure', 2648), ('save', 2649), ('grey', 2650), ('invitation', 2651), ('gifts', 2652), ('ages', 2653), ('protein', 2654), ('xray', 2655), ('sterno', 2656), ('success', 2657), ('dobkins', 2658), ('bless', 2659), ('bunsen', 2660), ('burner', 2661), ('ton', 2662), ('drawing', 2663), ('atoms', 2664), ('benefit', 2665), ('complicated', 2666), ('pressed', 2667), ('ventilation', 2668), ('younger', 2669), ('crutches', 2670), ('sixpack', 2671), ('pains', 2672), ('demand', 2673), ('standard', 2674), ('wasted', 2675), ('minds', 2676), ('raised', 2677), ('placing', 2678), ('bets', 2679), ('loaded', 2680), ('bat', 2681), ('warbucks', 2682), ('chip', 2683), ('hmo', 2684), ('bold', 2685), ('series', 2686), ('tests', 2687), ('worstcase', 2688), ('returned', 2689), ('willy', 2690), ('wonka', 2691), ('golden', 2692), ('ticket', 2693), ('boat', 2694), ('clovis', 2695), ('standup', 2696), ('vouched', 2697), ('seizure', 2698), ('antiemetic', 2699), ('medications', 2700), ('mildly', 2701), ('necessary', 2702), ('incident', 2703), ('presume', 2704), ('badass', 2705), ('event', 2706), ('straightforward', 2707), ('watched', 2708), ('earth', 2709), ('entry', 2710), ('cars', 2711), ('followed', 2712), ('rainyday', 2713), ('fund', 2714), ('aniline', 2715), ('homey', 2716), ('gut', 2717), ('apple', 2718), ('danger', 2719), ('disappear', 2720), ('grill', 2721), ('shiny', 2722), ('states', 2723), ('among', 2724), ('gangsters', 2725), ('fame', 2726), ('created', 2727), ('quality', 2728), ('talkin', 2729), ('et', 2730), ('barry', 2731), ('moon', 2732), ('summer', 2733), ('ducking', 2734), ('pounding', 2735), ('memory', 2736), ('ears', 2737), ('nausea', 2738), ('fuzzy', 2739), ('desk', 2740), ('arrive', 2741), ('satellite', 2742), ('chase', 2743), ('excited', 2744), ('betting', 2745), ('stars', 2746), ('departments', 2747), ('initiative', 2748), ('puffs', 2749), ('intimidating', 2750), ('skymall', 2751), ('jerking', 2752), ('earlier', 2753), ('inroads', 2754), ('raisin', 2755), ('bran', 2756), ('pushing', 2757), ('welding', 2758), ('tat', 2759), ('ink', 2760), ('earning', 2761), ('nickname', 2762), ('politics', 2763), ('en', 2764), ('soldiers', 2765), ('kickass', 2766), ('flatscreen', 2767), ('pathetic', 2768), ('kleinman', 2769), ('difficult', 2770), ('smarter', 2771), ('aspect', 2772), ('laundered', 2773), ('hay', 2774), ('shining', 2775), ('prepared', 2776), ('complaining', 2777), ('painter', 2778), ('yup', 2779), ('paintings', 2780), ('calendar', 2781), ('mantles', 2782), ('pencil', 2783), ('parking', 2784), ('visual', 2785), ('belongings', 2786), ('unattended', 2787), ('confiscated', 2788), ('reflux', 2789), ('condensers', 2790), ('signal', 2791), ('stripper', 2792), ('twopointthreefive', 2793), ('prices', 2794), ('seventytwo', 2795), ('batterys', 2796), ('faulty', 2797), ('ruined', 2798), ('retard', 2799), ('electrolytes', 2800), ('potassium', 2801), ('muscles', 2802), ('crybaby', 2803), ('scientific', 2804), ('rocket', 2805), ('fuel', 2806), ('robot', 2807), ('coins', 2808), ('sponges', 2809), ('oxide', 2810), ('copper', 2811), ('cured', 2812), ('grown', 2813), ('remain', 2814), ('exact', 2815), ('adenocarcinoma', 2816), ('mass', 2817), ('therapy', 2818), ('according', 2819), ('tissue', 2820), ('inflammation', 2821), ('prescribe', 2822), ('tear', 2823), ('woods', 2824), ('celebrating', 2825), ('significant', 2826), ('wishes', 2827), ('bastards', 2828), ('switch', 2829), ('beanspeak', 2830), ('mescal', 2831), ('training', 2832), ('optimistic', 2833), ('surf', 2834), ('board', 2835), ('pouch', 2836), ('fights', 2837), ('drew', 2838), ('shrink', 2839), ('neighbourhood', 2840), ('sink', 2841), ('holler', 2842), ('bingo', 2843), ('draught', 2844), ('embarrassed', 2845), ('behaviour', 2846), ('hardass', 2847), ('letting', 2848), ('filter', 2849), ('wood', 2850), ('fresh', 2851), ('accounts', 2852), ('receivable', 2853), ('companies', 2854), ('checkout', 2855), ('striker', 2856), ('strips', 2857), ('shirt', 2858), ('minding', 2859), ('guilty', 2860), ('bright', 2861), ('wakes', 2862), ('banging', 2863), ('steve', 2864), ('asac', 2865), ('lousy', 2866), ('animals', 2867), ('jungle', 2868), ('realize', 2869), ('accurate', 2870), ('hardon', 2871), ('jackoff', 2872), ('voicemail', 2873), ('straightup', 2874), ('chrissake', 2875), ('famous', 2876), ('cruising', 2877), ('abuse', 2878), ('supplier', 2879), ('detective', 2880), ('deliver', 2881), ('purposes', 2882), ('american', 2883), ('joke', 2884), ('suck', 2885), ('shape', 2886), ('shitless', 2887), ('plead', 2888), ('typical', 2889), ('irish', 2890), ('fell', 2891), ('booty', 2892), ('lalo', 2893), ('regards', 2894), ('motto', 2895), ('carefully', 2896), ('bricks', 2897), ('limb', 2898), ('recognise', 2899), ('mask', 2900), ('attorneyclient', 2901), ('privilege', 2902), ('ski', 2903), ('shanking', 2904), ('cooperating', 2905), ('average', 2906), ('federal', 2907), ('talents', 2908), ('represent', 2909), ('bench', 2910), ('blocked', 2911), ('kilkelly', 2912), ('delivery', 2913), ('kindness', 2914), ('vito', 2915), ('corleone', 2916), ('blowing', 2917), ('barks', 2918), ('stuffs', 2919), ('maximum', 2920), ('sight', 2921), ('victim', 2922), ('suffered', 2923), ('grinding', 2924), ('disposal', 2925), ('mmhmm', 2926), ('aah', 2927), ('lesson', 2928), ('silver', 2929), ('dirty', 2930), ('whispering', 2931), ('drilled', 2932), ('stucco', 2933), ('norfolk', 2934), ('absent', 2935), ('crossing', 2936), ('apartment', 2937), ('sobriety', 2938), ('wet', 2939), ('samples', 2940), ('hating', 2941), ('adapt', 2942), ('laugh', 2943), ('russell', 2944), ('tan', 2945), ('capacity', 2946), ('panting', 2947), ('earthly', 2948), ('muh', 2949), ('remind', 2950), ('george', 2951), ('toes', 2952), ('physically', 2953), ('rails', 2954), ('acts', 2955), ('neck', 2956), ('matt', 2957), ('darling', 2958), ('thai', 2959), ('clothing', 2960), ('whimpers', 2961), ('camera', 2962), ('providers', 2963), ('traced', 2964), ('appliances', 2965), ('carrying', 2966), ('announcer', 2967), ('keca', 2968), ('whether', 2969), ('horn', 2970), ('treatments', 2971), ('viable', 2972), ('tricky', 2973), ('fourteen', 2974), ('maddogging', 2975), ('copped', 2976), ('setback', 2977), ('marriage', 2978), ('iooking', 2979), ('muscle', 2980), ('satisfaction', 2981), ('csection', 2982), ('birthdays', 2983), ('halfway', 2984), ('coke', 2985), ('complaint', 2986), ('refer', 2987), ('alike', 2988), ('exists', 2989), ('dribs', 2990), ('drabs', 2991), ('received', 2992), ('moneys', 2993), ('reported', 2994), ('cases', 2995), ('books', 2996), ('emotional', 2997), ('highend', 2998), ('thin', 2999), ('nevada', 3000), ('gustavo', 3001), ('exit', 3002), ('instead', 3003), ('overslept', 3004), ('row', 3005), ('flames', 3006), ('design', 3007), ('changes', 3008), ('avoid', 3009), ('corporate', 3010), ('yell', 3011), ('starving', 3012), ('mild', 3013), ('hermanos', 3014), ('gives', 3015), ('systems', 3016), ('falls', 3017), ('lower', 3018), ('dime', 3019), ('tummy', 3020), ('decides', 3021), ('savewalterwhite', 3022), ('com', 3023), ('ltll', 3024), ('edge', 3025), ('molls', 3026), ('murray', 3027), ('cup', 3028), ('benefactor', 3029), ('zombies', 3030), ('activity', 3031), ('rolls', 3032), ('eldest', 3033), ('freedom', 3034), ('australia', 3035), ('providing', 3036), ('frustration', 3037), ('appears', 3038), ('evening', 3039), ('warn', 3040), ('faa', 3041), ('operating', 3042), ('neighborhood', 3043), ('es', 3044), ('absence', 3045), ('substance', 3046), ('questioning', 3047), ('gasps', 3048), ('path', 3049), ('loopholes', 3050), ('freakin', 3051), ('whoo', 3052), ('bananas', 3053), ('clicks', 3054), ('terms', 3055), ('receiver', 3056), ('clatters', 3057), ('kills', 3058), ('seadoos', 3059), ('applause', 3060), ('treat', 3061), ('supportive', 3062), ('prying', 3063), ('thus', 3064), ('virginia', 3065), ('abc', 3066), ('coughs', 3067), ('papers', 3068), ('temporary', 3069), ('th', 3070), ('radar', 3071), ('properly', 3072), ('government', 3073), ('macdonald', 3074), ('oink', 3075), ('fretting', 3076), ('crying', 3077), ('disturbance', 3078), ('remove', 3079), ('grilled', 3080), ('chuckling', 3081), ('chimes', 3082), ('premises', 3083), ('daddys', 3084), ('cries', 3085), ('basis', 3086), ('officers', 3087), ('spare', 3088), ('siren', 3089), ('mamas', 3090), ('showed', 3091), ('manufacturer', 3092), ('knifed', 3093), ('opens', 3094), ('stayed', 3095), ('juniors', 3096), ('roof', 3097), ('afford', 3098), ('chatter', 3099), ('salad', 3100), ('riverbed', 3101), ('flowed', 3102), ('sad', 3103), ('dialogue', 3104), ('wayfarer', 3105), ('patrol', 3106), ('juarez', 3107), ('jokers', 3108), ('tool', 3109), ('whirring', 3110), ('hammer', 3111), ('healthy', 3112), ('devils', 3113), ('poppop', 3114), ('raw', 3115), ('catches', 3116), ('jealous', 3117), ('talent', 3118), ('glaring', 3119), ('sides', 3120), ('file', 3121), ('yells', 3122), ('spitting', 3123), ('jake', 3124), ('owners', 3125), ('ahh', 3126), ('guns', 3127), ('typically', 3128), ('marks', 3129), ('dial', 3130), ('packed', 3131), ('excuses', 3132), ('daughters', 3133), ('april', 3134), ('phoenix', 3135), ('arizona', 3136), ('enchantment', 3137), ('maries', 3138), ('patients', 3139), ('contributions', 3140), ('canterna', 3141), ('community', 3142), ('don', 3143), ('ident', 3144), ('roger', 3145), ('morgue', 3146), ('denying', 3147), ('afraid', 3148), ('oclock', 3149), ('adjusting', 3150), ('hat', 3151), ('ups', 3152), ('specifically', 3153), ('bird', 3154), ('biker', 3155), ('communication', 3156), ('therapist', 3157), ('speaks', 3158), ('utility', 3159), ('kleptomaniac', 3160), ('degenerate', 3161), ('stack', 3162), ('withdrawn', 3163), ('informant', 3164), ('superlab', 3165), ('ingredient', 3166), ('everyones', 3167), ('chevy', 3168), ('priority', 3169), ('fences', 3170), ('grapefruit', 3171), ('section', 3172), ('medication', 3173), ('vacate', 3174), ('kicking', 3175), ('laboratory', 3176), ('fixed', 3177), ('bent', 3178), ('omelettes', 3179), ('identity', 3180), ('agreed', 3181), ('trays', 3182), ('carrots', 3183), ('inlaws', 3184), ('lefthand', 3185), ('repair', 3186), ('bicycle', 3187), ('players', 3188), ('contractor', 3189), ('knocks', 3190), ('judgment', 3191), ('ploy', 3192), ('venture', 3193), ('consistent', 3194), ('respected', 3195), ('blown', 3196), ('whining', 3197), ('laundry', 3198), ('confidence', 3199), ('waitress', 3200), ('borrow', 3201), ('piccolo', 3202), ('oboe', 3203), ('practice', 3204), ('favorite', 3205), ('digs', 3206), ('emotions', 3207), ('maneuver', 3208), ('spills', 3209), ('nightmare', 3210), ('gps', 3211), ('flooded', 3212), ('cross', 3213), ('instituted', 3214), ('rule', 3215), ('seniors', 3216), ('glamour', 3217), ('epperman', 3218), ('smallbusted', 3219), ('brassiere', 3220), ('att', 3221), ('annoying', 3222), ('derives', 3223), ('greek', 3224), ('concept', 3225), ('identical', 3226), ('organic', 3227), ('exist', 3228), ('image', 3229), ('molecular', 3230), ('behave', 3231), ('righthanded', 3232), ('prevent', 3233), ('sickness', 3234), ('lefthanded', 3235), ('defects', 3236), ('mirrored', 3237), ('active', 3238), ('inactive', 3239), ('power', 3240), ('milfs', 3241), ('milf', 3242), ('wanders', 3243), ('regularly', 3244), ('reputation', 3245), ('colombian', 3246), ('neckties', 3247), ('coast', 3248), ('pounce', 3249), ('bide', 3250), ('suggestions', 3251), ('uhuh', 3252), ('responsability', 3253), ('nerdiest', 3254), ('diaperwearing', 3255), ('granny', 3256), ('phosphate', 3257), ('delayed', 3258), ('demands', 3259), ('warmer', 3260), ('disincorporation', 3261), ('dissolving', 3262), ('polyethylene', 3263), ('triangle', 3264), ('stamped', 3265), ('molded', 3266), ('flimsy', 3267), ('acids', 3268), ('clowned', 3269), ('jerked', 3270), ('lecture', 3271), ('games', 3272), ('crust', 3273), ('bin', 3274), ('bins', 3275), ('torso', 3276), ('appointement', 3277), ('smile', 3278), ('peanut', 3279), ('dating', 3280), ('fabulous', 3281), ('myshout', 3282), ('attended', 3283), ('burnout', 3284), ('noticing', 3285), ('hesitate', 3286), ('psychobitch', 3287), ('responsabilty', 3288), ('melting', 3289), ('goddamned', 3290), ('preferable', 3291), ('diddling', 3292), ('stairs', 3293), ('dissolve', 3294), ('ceramic', 3295), ('streat', 3296), ('benjies', 3297), ('hers', 3298), ('jacked', 3299), ('blocking', 3300), ('mixture', 3301), ('cutlery', 3302), ('jammed', 3303), ('eightynine', 3304), ('flex', 3305), ('instalments', 3306), ('terry', 3307), ('realise', 3308), ('sword', 3309), ('watashi', 3310), ('tanto', 3311), ('bonus', 3312), ('mister', 3313), ('rogers', 3314), ('custom', 3315), ('needless', 3316), ('edges', 3317), ('valences', 3318), ('covalences', 3319), ('whenevers', 3320), ('convenient', 3321), ('overdue', 3322), ('passing', 3323), ('adamant', 3324), ('wanting', 3325), ('bother', 3326), ('monoalkenes', 3327), ('diolefins', 3328), ('trienes', 3329), ('polyenes', 3330), ('nomenclature', 3331), ('overwhelmed', 3332), ('universe', 3333), ('assistant', 3334), ('wears', 3335), ('finger', 3336), ('formed', 3337), ('tracy', 3338), ('reproducible', 3339), ('drilling', 3340), ('electronics', 3341), ('multibilliondollar', 3342), ('industries', 3343), ('electric', 3344), ('fortune', 3345), ('incalculable', 3346), ('ge', 3347), ('rewarded', 3348), ('printed', 3349), ('skinnier', 3350), ('jeffrey', 3351), ('fortyeight', 3352), ('cramping', 3353), ('aching', 3354), ('necks', 3355), ('mound', 3356), ('ants', 3357), ('western', 3358), ('shocker', 3359), ('goodshaped', 3360), ('likewise', 3361), ('safely', 3362), ('concussion', 3363), ('subdural', 3364), ('hematoma', 3365), ('butts', 3366), ('flashlight', 3367), ('pliers', 3368), ('exploring', 3369), ('holds', 3370), ('kneecap', 3371), ('lifes', 3372), ('mission', 3373), ('hurting', 3374), ('slit', 3375), ('ant', 3376), ('fidc', 3377), ('insured', 3378), ('bodega', 3379), ('silk', 3380), ('breeze', 3381), ('smoothlik', 3382), ('sensing', 3383), ('averages', 3384), ('determination', 3385), ('involving', 3386), ('deeply', 3387), ('concern', 3388), ('greatly', 3389), ('tears', 3390), ('thanking', 3391), ('humbly', 3392), ('strings', 3393), ('attached', 3394), ('involve', 3395), ('presumption', 3396), ('wand', 3397), ('research', 3398), ('beautifully', 3399), ('sweetness', 3400), ('newport', 3401), ('brothers', 3402), ('empire', 3403), ('adding', 3404), ('bedtime', 3405), ('abrupt', 3406), ('apologetic', 3407), ('stunned', 3408), ('hemming', 3409), ('hawing', 3410), ('phraseology', 3411), ('cashpoor', 3412), ('leveraged', 3413), ('quarterly', 3414), ('fannie', 3415), ('mae', 3416), ('immune', 3417), ('prideful', 3418), ('selfish', 3419), ('drives', 3420), ('bentley', 3421), ('safes', 3422), ('designing', 3423), ('assist', 3424), ('realm', 3425), ('interaction', 3426), ('whatsoever', 3427), ('bloodshed', 3428), ('nothin', 3429), ('union', 3430), ('discomforts', 3431), ('gradual', 3432), ('slight', 3433), ('rust', 3434), ('collects', 3435), ('underside', 3436), ('harmless', 3437), ('bursts', 3438), ('rapid', 3439), ('result', 3440), ('reactions', 3441), ('instantaneously', 3442), ('reactants', 3443), ('explosives', 3444), ('fulminative', 3445), ('undergo', 3446), ('violent', 3447), ('reading', 3448), ('afternoons', 3449), ('nows', 3450), ('types', 3451), ('nature', 3452), ('cacti', 3453), ('vegetation', 3454), ('therapeutic', 3455), ('dizzy', 3456), ('dots', 3457), ('crawled', 3458), ('microwave', 3459), ('imprint', 3460), ('marker', 3461), ('prepaid', 3462), ('quanties', 3463), ('scarface', 3464), ('unacceptable', 3465), ('motivation', 3466), ('imaginative', 3467), ('wholesale', 3468), ('upper', 3469), ('introduced', 3470), ('satisfied', 3471), ('knockknock', 3472), ('chicks', 3473), ('recognize', 3474), ('indian', 3475), ('label', 3476), ('belonging', 3477), ('snitches', 3478), ('informants', 3479), ('chopped', 3480), ('fed', 3481), ('guest', 3482), ('underestimate', 3483), ('flasks', 3484), ('brew', 3485), ('cmon', 3486), ('cellblock', 3487), ('hauling', 3488), ('solicitous', 3489), ('monkey', 3490), ('feeding', 3491), ('frenzy', 3492), ('atta', 3493), ('sprung', 3494), ('duct', 3495), ('tape', 3496), ('consignment', 3497), ('float', 3498), ('valley', 3499), ('colors', 3500), ('delcavolis', 3501), ('substitute', 3502), ('reds', 3503), ('possession', 3504), ('beefs', 3505), ('schools', 3506), ('blunt', 3507), ('slip', 3508), ('cracks', 3509), ('hernia', 3510), ('tore', 3511), ('hugos', 3512), ('league', 3513), ('pothead', 3514), ('raid', 3515), ('yowsa', 3516), ('bails', 3517), ('county', 3518), ('puss', 3519), ('fold', 3520), ('anticlimactic', 3521), ('cards', 3522), ('ace', 3523), ('cowboy', 3524), ('ribs', 3525), ('doped', 3526), ('butter', 3527), ('tj', 3528), ('riches', 3529), ('fulminated', 3530), ('tweak', 3531), ('methamphetamines', 3532), ('remains', 3533), ('priorities', 3534), ('assured', 3535), ('janitor', 3536), ('indication', 3537), ('reviewing', 3538), ('others', 3539), ('access', 3540), ('limited', 3541), ('maintenance', 3542), ('breakin', 3543), ('establish', 3544), ('doubletalk', 3545), ('drugsniffing', 3546), ('detectors', 3547), ('locker', 3548), ('strict', 3549), ('groundskeepers', 3550), ('specifics', 3551), ('chair', 3552), ('effort', 3553), ('labware', 3554), ('follows', 3555), ('fullface', 3556), ('sep', 3557), ('funnels', 3558), ('sill', 3559), ('thermometer', 3560), ('holder', 3561), ('ow', 3562), ('noroughstufftype', 3563), ('unfinished', 3564), ('rec', 3565), ('neigorhood', 3566), ('lawns', 3567), ('tress', 3568), ('fixer', 3569), ('listing', 3570), ('lex', 3571), ('luthor', 3572), ('visited', 3573), ('raspberry', 3574), ('slushie', 3575), ('flushed', 3576), ('haunted', 3577), ('seventeenfive', 3578), ('deadeyed', 3579), ('fairy', 3580), ('las', 3581), ('cruces', 3582), ('halfpound', 3583), ('bottleneck', 3584), ('waddling', 3585), ('showers', 3586), ('committed', 3587), ('frisky', 3588), ('realistically', 3589), ('antiemetics', 3590), ('tuned', 3591), ('eastern', 3592), ('holistic', 3593), ('efficacy', 3594), ('interfere', 3595), ('psychological', 3596), ('tremendous', 3597), ('noncriminals', 3598), ('transact', 3599), ('gap', 3600), ('flatfront', 3601), ('khakis', 3602), ('julius', 3603), ('skip', 3604), ('steals', 3605), ('tune', 3606), ('fivethree', 3607), ('chiclets', 3608), ('vig', 3609), ('sinus', 3610), ('ephedrine', 3611), ('phenylacetone', 3612), ('furnace', 3613), ('reductive', 3614), ('amination', 3615), ('yield', 3616), ('autotransformer', 3617), ('hy', 3618), ('hydrous', 3619), ('methyl', 3620), ('furnaces', 3621), ('millimeter', 3622), ('nitrate', 3623), ('oregon', 3624), ('believing', 3625), ('shockingly', 3626), ('asylum', 3627), ('curb', 3628), ('loves', 3629), ('carats', 3630), ('zircons', 3631), ('stronger', 3632), ('gor', 3633), ('presents', 3634), ('impression', 3635), ('forbidden', 3636), ('fruit', 3637), ('tastes', 3638), ('sweetest', 3639), ('cigars', 3640), ('alcohol', 3641), ('arbitrary', 3642), ('lockup', 3643), ('bales', 3644), ('ganja', 3645), ('willie', 3646), ('nelsons', 3647), ('pharmacy', 3648), ('senses', 3649), ('newborn', 3650), ('genie', 3651), ('farmington', 3652), ('ceremony', 3653), ('electrolytically', 3654), ('produced', 3655), ('pros', 3656), ('wad', 3657), ('thieves', 3658), ('guards', 3659), ('cameras', 3660), ('germans', 3661), ('artillery', 3662), ('weighed', 3663), ('firing', 3664), ('accurately', 3665), ('bombs', 3666), ('disabling', 3667), ('commando', 3668), ('melt', 3669), ('daughterinlaw', 3670), ('remembers', 3671), ('blonde', 3672), ('shred', 3673), ('modicum', 3674), ('illegally', 3675), ('detained', 3676), ('dank', 3677), ('hostage', 3678), ('furthermore', 3679), ('labor', 3680), ('guard', 3681), ('dawm', 3682), ('loud', 3683), ('gallon', 3684), ('jugs', 3685), ('opening', 3686), ('steady', 3687), ('sneak', 3688), ('humiliated', 3689), ('sinking', 3690), ('herbs', 3691), ('justifies', 3692), ('mole', 3693), ('calciums', 3694), ('skeleton', 3695), ('hemoglobin', 3696), ('shy', 3697), ('bedpans', 3698), ('squeaking', 3699), ('disgusting', 3700), ('arches', 3701), ('archy', 3702), ('ladder', 3703), ('effect', 3704), ('mood', 3705), ('lightheaded', 3706), ('degrading', 3707), ('flash', 3708), ('adios', 3709), ('coldblooded', 3710), ('ya', 3711), ('obscenity', 3712), ('contribution', 3713), ('toe', 3714), ('heil', 3715), ('hitler', 3716), ('tony', 3717), ('delicate', 3718), ('subject', 3719), ('comprende', 3720), ('siéntete', 3721), ('suffers', 3722), ('erectile', 3723), ('dysfunction', 3724), ('block', 3725), ('horror', 3726), ('respects', 3727), ('swing', 3728), ('footies', 3729), ('hid', 3730), ('creamery', 3731), ('detour', 3732), ('skeevy', 3733), ('whod', 3734), ('grandmas', 3735), ('coochie', 3736), ('wastes', 3737), ('graduated', 3738), ('doughnuts', 3739), ('princess', 3740), ('holdin', 3741), ('windy', 3742), ('pearly', 3743), ('whites', 3744), ('sausages', 3745), ('sang', 3746), ('choir', 3747), ('handicapped', 3748), ('qb', 3749), ('howitzer', 3750), ('hoof', 3751), ('messing', 3752), ('moral', 3753), ('promising', 3754), ('bred', 3755), ('handy', 3756), ('originally', 3757), ('oberlin', 3758), ('berklee', 3759), ('snowball', 3760), ('menaul', 3761), ('strain', 3762), ('braino', 3763), ('refraino', 3764), ('forniture', 3765), ('bueno', 3766), ('nameo', 3767), ('tend', 3768), ('musician', 3769), ('alex', 3770), ('sings', 3771), ('stairway', 3772), ('heaven', 3773), ('bassinet', 3774), ('bassinets', 3775), ('specialty', 3776), ('cribs', 3777), ('recognizing', 3778), ('friendly', 3779), ('remotely', 3780), ('seats', 3781), ('video', 3782), ('dually', 3783), ('towards', 3784), ('camperlab', 3785), ('f', 3786), ('hairgelled', 3787), ('iyiyi', 3788), ('vibrant', 3789), ('jumps', 3790), ('conquistadors', 3791), ('christs', 3792), ('drakkar', 3793), ('noir', 3794), ('toothpicks', 3795), ('zippy', 3796), ('croaked', 3797), ('entitles', 3798), ('admission', 3799), ('cholesterol', 3800), ('millionth', 3801), ('billionth', 3802), ('echinacea', 3803), ('bandaids', 3804), ('electrons', 3805), ('combine', 3806), ('constant', 3807), ('cycle', 3808), ('solution', 3809), ('dissolution', 3810), ('decay', 3811), ('transformation', 3812), ('fascinating', 3813), ('chad', 3814), ('claiming', 3815), ('disc', 3816), ('quits', 3817), ('chads', 3818), ('washboard', 3819), ('pleased', 3820), ('glock', 3821), ('daily', 3822), ('bplus', 3823), ('loads', 3824), ('caliber', 3825), ('keith', 3826), ('richards', 3827), ('wisconsin', 3828), ('apprehended', 3829), ('individuals', 3830), ('professionalism', 3831), ('substantial', 3832), ('charming', 3833), ('organized', 3834), ('haul', 3835), ('citizens', 3836), ('excitement', 3837), ('fauxlalique', 3838), ('vase', 3839), ('superswap', 3840), ('reserve', 3841), ('noon', 3842), ('exhibit', 3843), ('exhibition', 3844), ('rover', 3845), ('photographs', 3846), ('stepladder', 3847), ('embarrassing', 3848), ('breaths', 3849), ('smoker', 3850), ('bestcase', 3851), ('post', 3852), ('printer', 3853), ('mastercards', 3854), ('skies', 3855), ('eyebrows', 3856), ('wipe', 3857), ('twostory', 3858), ('dash', 3859), ('exuberant', 3860), ('dopey', 3861), ('labs', 3862), ('latino', 3863), ('persuasion', 3864), ('drivers', 3865), ('asian', 3866), ('lo', 3867), ('peek', 3868), ('filing', 3869), ('winder', 3870), ('kotter', 3871), ('square', 3872), ('described', 3873), ('mosaic', 3874), ('folk', 3875), ('minneapolis', 3876), ('shipping', 3877), ('publish', 3878), ('critique', 3879), ('quieter', 3880), ('basket', 3881), ('sex', 3882), ('rare', 3883), ('paraphernalia', 3884), ('beakers', 3885), ('pièce', 3886), ('résistance', 3887), ('mixing', 3888), ('titration', 3889), ('flunked', 3890), ('prick', 3891), ('stable', 3892), ('performs', 3893), ('advertised', 3894), ('adulterants', 3895), ('signature', 3896), ('faggot', 3897), ('rented', 3898), ('selfstorage', 3899), ('garages', 3900), ('sniff', 3901), ('winnebago', 3902), ('camping', 3903), ('mobile', 3904), ('evasive', 3905), ('compute', 3906), ('waist', 3907), ('preshrunk', 3908), ('skaters', 3909), ('skater', 3910), ('pinched', 3911), ('girlfriends', 3912), ('outta', 3913), ('daylights', 3914), ('homo', 3915), ('crystals', 3916), ('goddamn', 3917), ('jibbhead', 3918), ('timbuktu', 3919), ('miami', 3920), ('kraze', 3921), ('purebred', 3922), ('laid', 3923), ('poochie', 3924), ('vengeance', 3925), ('vato', 3926), ('dimed', 3927), ('bail', 3928), ('pendejo', 3929), ('nudist', 3930), ('stonefine', 3931), ('ratasnitch', 3932), ('cigarette', 3933), ('moisture', 3934), ('accelerated', 3935), ('yields', 3936), ('hydride', 3937), ('optimism', 3938), ('reassess', 3939), ('babys', 3940), ('gotten', 3941), ('streamlined', 3942), ('aerodynamic', 3943), ('confusion', 3944), ('insurer', 3945), ('print', 3946), ('discussed', 3947), ('distinction', 3948), ('diagnostic', 3949), ('exploratory', 3950), ('ordered', 3951), ('triplicate', 3952), ('smokes', 3953), ('threeday', 3954), ('domain', 3955), ('rallies', 3956), ('turfs', 3957), ('grabs', 3958), ('takers', 3959), ('dimebagger', 3960), ('tweaker', 3961), ('legend', 3962), ('sharks', 3963), ('travel', 3964), ('thousands', 3965), ('pursuit', 3966), ('liaison', 3967), ('tristate', 3968), ('st', 3969), ('brains', 3970), ('brawn', 3971), ('package', 3972), ('fits', 3973), ('stoked', 3974), ('nerve', 3975), ('dumber', 3976), ('tow', 3977), ('repairs', 3978), ('damages', 3979), ('millionfive', 3980), ('padlocked', 3981), ('inspire', 3982), ('awe', 3983), ('detached', 3984), ('upkeep', 3985), ('whatnot', 3986), ('blinds', 3987), ('wired', 3988), ('activate', 3989), ('tile', 3990), ('hardwood', 3991), ('np', 3992), ('ns', 3993), ('ad', 3994), ('pets', 3995), ('drill', 3996), ('stub', 3997), ('copacetic', 3998), ('situations', 3999), ('renting', 4000), ('makeexceptions', 4001), ('disappointment', 4002), ('persona', 4003), ('non', 4004), ('gratis', 4005), ('addition', 4006), ('nonrefundable', 4007), ('gotcha', 4008), ('squatters', 4009), ('dumpster', 4010), ('fill', 4011), ('brewing', 4012), ('longawaited', 4013), ('careerboosting', 4014), ('oktoberfest', 4015), ('prior', 4016), ('busting', 4017), ('hump', 4018), ('shards', 4019), ('exposing', 4020), ('chump', 4021), ('completing', 4022), ('alibi', 4023), ('homicidal', 4024), ('middleman', 4025), ('bowie', 4026), ('create', 4027), ('network', 4028), ('skyhigh', 4029), ('entities', 4030), ('beg', 4031), ('pardon', 4032), ('partnership', 4033), ('rem', 4034), ('curve', 4035), ('overly', 4036), ('ambitious', 4037), ('enter', 4038), ('humble', 4039), ('abode', 4040), ('mover', 4041), ('badge', 4042), ('echoes', 4043), ('virtual', 4044), ('wallmounted', 4045), ('rocks', 4046), ('lcd', 4047), ('deeper', 4048), ('porn', 4049), ('coz', 4050), ('tatas', 4051), ('zerogravity', 4052), ('chairs', 4053), ('viewing', 4054), ('asiany', 4055), ('modern', 4056), ('feng', 4057), ('shui', 4058), ('fountain', 4059), ('cream', 4060), ('partake', 4061), ('loving', 4062), ('spoonful', 4063), ('twentyfive', 4064), ('shiz', 4065), ('teener', 4066), ('exceptions', 4067), ('paris', 4068), ('lawless', 4069), ('shoutout', 4070), ('online', 4071), ('melinda', 4072), ('bosss', 4073), ('helmet', 4074), ('permanent', 4075), ('lip', 4076), ('liner', 4077), ('neatly', 4078), ('gory', 4079), ('cockroach', 4080), ('stomp', 4081), ('criminals', 4082), ('racehorse', 4083), ('dl', 4084), ('fifteen', 4085), ('net', 4086), ('petes', 4087), ('kmart', 4088), ('breaks', 4089), ('technical', 4090), ('nonsustainable', 4091), ('model', 4092), ('focusing', 4093), ('clowns', 4094), ('hired', 4095), ('impunity', 4096), ('precious', 4097), ('panini', 4098), ('freezer', 4099), ('nixed', 4100), ('offthechart', 4101), ('craving', 4102), ('ashamed', 4103), ('unlike', 4104), ('résumé', 4105), ('curriculum', 4106), ('vitae', 4107), ('noexperiencenecessary', 4108), ('selfstarter', 4109), ('licensed', 4110), ('onthejob', 4111), ('advertising', 4112), ('duds', 4113), ('lame', 4114), ('rehabilitated', 4115), ('citizen', 4116), ('exercise', 4117), ('arrow', 4118), ('possibilities', 4119), ('retiring', 4120), ('retirement', 4121), ('complaing', 4122), ('beige', 4123), ('memo', 4124), ('prom', 4125), ('securing', 4126), ('patent', 4127), ('farley', 4128), ('cal', 4129), ('tech', 4130), ('crystallography', 4131), ('breezed', 4132), ('synchrotrons', 4133), ('generate', 4134), ('purer', 4135), ('patterns', 4136), ('beams', 4137), ('grad', 4138), ('became', 4139), ('technologies', 4140), ('gravitated', 4141), ('university', 4142), ('stratocaster', 4143), ('strat', 4144), ('claptons', 4145), ('buckle', 4146), ('rash', 4147), ('eric', 4148), ('clapton', 4149), ('yumgood', 4150), ('ramen', 4151), ('thesis', 4152), ('ralstos', 4153), ('hardware', 4154), ('convinced', 4155), ('noodles', 4156), ('lifeblood', 4157), ('outlawed', 4158), ('n', 4159), ('chocolate', 4160), ('patches', 4161), ('elbows', 4162), ('members', 4163), ('jacket', 4164), ('distinguished', 4165), ('professor', 4166), ('robert', 4167), ('wilhelm', 4168), ('rant', 4169), ('invent', 4170), ('improved', 4171), ('chalkboard', 4172), ('periodic', 4173), ('rusty', 4174), ('upside', 4175), ('vision', 4176), ('appealing', 4177), ('prosciutto', 4178), ('figs', 4179), ('seafood', 4180), ('lobster', 4181), ('tail', 4182), ('crab', 4183), ('shrimp', 4184), ('poker', 4185), ('affairs', 4186), ('fig', 4187), ('leaf', 4188), ('facesaving', 4189), ('generously', 4190), ('flatout', 4191), ('expartner', 4192), ('wrecked', 4193), ('hunting', 4194), ('javelinas', 4195), ('businessmen', 4196), ('ids', 4197), ('jackpot', 4198), ('teenager', 4199), ('reefer', 4200), ('admitted', 4201), ('cankenstein', 4202), ('unreal', 4203), ('dough', 4204), ('join', 4205), ('pitch', 4206), ('respond', 4207), ('circle', 4208), ('dealt', 4209), ('ended', 4210), ('bases', 4211), ('frickin', 4212), ('homer', 4213), ('hitter', 4214), ('agreeing', 4215), ('debate', 4216), ('observation', 4217), ('thankful', 4218), ('approach', 4219), ('statistics', 4220), ('surviving', 4221), ('matters', 4222), ('choke', 4223), ('single', 4224), ('nauseated', 4225), ('artificially', 4226), ('marking', 4227), ('billing', 4228), ('directly', 4229), ('elliotts', 4230), ('dehydrated', 4231), ('disoriented', 4232), ('stabilised', 4233), ('hug', 4234), ('foods', 4235), ('yanked', 4236), ('indestructible', 4237), ('observed', 4238), ('appeared', 4239), ('midsection', 4240), ('previous', 4241), ('arrival', 4242), ('instructed', 4243), ('lunged', 4244), ('ascertained', 4245), ('assault', 4246), ('rifle', 4247), ('sought', 4248), ('proceeded', 4249), ('engage', 4250), ('paused', 4251), ('reload', 4252), ('salamancas', 4253), ('anticipated', 4254), ('tending', 4255), ('unrelated', 4256), ('searching', 4257), ('acquaintances', 4258), ('whereabouts', 4259), ('belonged', 4260), ('student', 4261), ('tracking', 4262), ('pinkmans', 4263), ('jehovahs', 4264), ('outlaw', 4265), ('magical', 4266), ('sail', 4267), ('chocolaty', 4268), ('aqueous', 4269), ('sacrilege', 4270), ('forgetting', 4271), ('stranded', 4272), ('towing', 4273), ('seattle', 4274), ('cargo', 4275), ('fleeting', 4276), ('highway', 4277), ('headlights', 4278), ('metastases', 4279), ('panel', 4280), ('granted', 4281), ('prescriptions', 4282), ('antitussive', 4283), ('itself', 4284), ('sheets', 4285), ('warnings', 4286), ('psychiatric', 4287), ('evaluation', 4288), ('recur', 4289), ('bumping', 4290), ('uglies', 4291), ('moo', 4292), ('goo', 4293), ('gai', 4294), ('pan', 4295), ('chink', 4296), ('managements', 4297), ('sixtyseven', 4298), ('unclaimed', 4299), ('softball', 4300), ('jerseys', 4301), ('injun', 4302), ('storys', 4303), ('kleenex', 4304), ('boomboom', 4305), ('yeast', 4306), ('penis', 4307), ('withdrawal', 4308), ('schlongus', 4309), ('interruptus', 4310), ('tinkle', 4311), ('shacked', 4312), ('windys', 4313), ('bang', 4314), ('skid', 4315), ('recurring', 4316), ('thoughts', 4317), ('persecution', 4318), ('rude', 4319), ('outpatient', 4320), ('disassociate', 4321), ('solve', 4322), ('confidentiality', 4323), ('disclose', 4324), ('exception', 4325), ('practitioner', 4326), ('abide', 4327), ('strictures', 4328), ('hitchhiked', 4329), ('gallup', 4330), ('credibility', 4331), ('avoiding', 4332), ('cerebral', 4333), ('palsy', 4334), ('overqualified', 4335), ('colleagues', 4336), ('surpass', 4337), ('imaginable', 4338), ('honours', 4339), ('saturn', 4340), ('granddad', 4341), ('numbnuts', 4342), ('og', 4343), ('san', 4344), ('quentin', 4345), ('oldschool', 4346), ('gangbang', 4347), ('productive', 4348), ('amped', 4349), ('downtown', 4350), ('sweated', 4351), ('sixtyeight', 4352), ('laughed', 4353), ('caring', 4354), ('badgers', 4355), ('sevenhundred', 4356), ('twentyone', 4357), ('cornflakes', 4358), ('charlie', 4359), ('manson', 4360), ('stooges', 4361), ('meths', 4362), ('connected', 4363), ('melon', 4364), ('beers', 4365), ('cinco', 4366), ('mayo', 4367), ('puppies', 4368), ('nurse', 4369), ('hydrated', 4370), ('thirsty', 4371), ('beast', 4372), ('rounding', 4373), ('freeloading', 4374), ('isolated', 4375), ('episode', 4376), ('transient', 4377), ('global', 4378), ('amnesia', 4379), ('treating', 4380), ('eliot', 4381), ('ness', 4382), ('baked', 4383), ('chocolatechip', 4384), ('fashion', 4385), ('statement', 4386), ('attracted', 4387), ('gulp', 4388), ('slim', 4389), ('jim', 4390), ('odd', 4391), ('citys', 4392), ('duk', 4393), ('gringos', 4394), ('inflated', 4395), ('colour', 4396), ('potent', 4397), ('forgiving', 4398), ('michoacan', 4399), ('mexicos', 4400), ('livin', 4401), ('gringo', 4402), ('fury', 4403), ('escaped', 4404), ('attraction', 4405), ('covalent', 4406), ('concepts', 4407), ('deficit', 4408), ('slide', 4409), ('bullshitter', 4410), ('wellbeing', 4411), ('whatevers', 4412), ('telephone', 4413), ('blinking', 4414), ('idiot', 4415), ('jog', 4416), ('handled', 4417), ('intimidation', 4418), ('zapped', 4419), ('cheek', 4420), ('zonked', 4421), ('mechanics', 4422), ('thirtytwo', 4423), ('jefe', 4424), ('malverde', 4425), ('patron', 4426), ('scumbags', 4427), ('kneeling', 4428), ('praying', 4429), ('whys', 4430), ('neonazis', 4431), ('swastikas', 4432), ('tzu', 4433), ('sixthcentury', 4434), ('battles', 4435), ('onboard', 4436), ('settled', 4437), ('farting', 4438), ('confusions', 4439), ('interpretations', 4440), ('squash', 4441), ('ms', 4442), ('application', 4443), ('margaret', 4444), ('taller', 4445), ('genes', 4446), ('twins', 4447), ('gorgeous', 4448), ('plugging', 4449), ('applying', 4450), ('dataentry', 4451), ('goto', 4452), ('bookkeeper', 4453), ('expanding', 4454), ('opportunities', 4455), ('buyers', 4456), ('exploiting', 4457), ('employ', 4458), ('triple', 4459), ('subdealers', 4460), ('neighbourhoods', 4461), ('crews', 4462), ('kindly', 4463), ('cares', 4464), ('competitors', 4465), ('stature', 4466), ('swift', 4467), ('cunning', 4468), ('predators', 4469), ('larger', 4470), ('scarier', 4471), ('illusion', 4472), ('messes', 4473), ('blowfishing', 4474), ('espanol', 4475), ('branson', 4476), ('missouri', 4477), ('ltem', 4478), ('yankee', 4479), ('stadium', 4480), ('commemorative', 4481), ('baseball', 4482), ('handsigned', 4483), ('derek', 4484), ('jeter', 4485), ('largesize', 4486), ('runner', 4487), ('rug', 4488), ('hundreddollar', 4489), ('reminds', 4490), ('lookit', 4491), ('tranquil', 4492), ('garden', 4493), ('sculpture', 4494), ('likeness', 4495), ('hushhush', 4496), ('desks', 4497), ('grabbyhands', 4498), ('slurring', 4499), ('executive', 4500), ('profusely', 4501), ('sued', 4502), ('devil', 4503), ('grocery', 4504), ('byebye', 4505), ('costco', 4506), ('snag', 4507), ('bigass', 4508), ('widescreen', 4509), ('tattoo', 4510), ('commitment', 4511), ('manana', 4512), ('catalogues', 4513), ('lmage', 4514), ('loudmouth', 4515), ('language', 4516), ('hotshot', 4517), ('praises', 4518), ('aboard', 4519), ('severed', 4520), ('werner', 4521), ('undertak', 4522), ('staking', 4523), ('claim', 4524), ('kings', 4525), ('princes', 4526), ('dukes', 4527), ('knight', 4528), ('layered', 4529), ('nachos', 4530), ('shizzle', 4531), ('frigging', 4532), ('presidents', 4533), ('economics', 4534), ('waddle', 4535), ('dealbreaker', 4536), ('denise', 4537), ('happier', 4538), ('machines', 4539), ('dolby', 4540), ('sixpointwhatever', 4541), ('magazines', 4542), ('skimp', 4543), ('naming', 4544), ('scans', 4545), ('technicians', 4546), ('input', 4547), ('dressed', 4548), ('technician', 4549), ('moneylaundering', 4550), ('nottellingyourwife', 4551), ('extenuating', 4552), ('cents', 4553), ('secondhand', 4554), ('subaru', 4555), ('penny', 4556), ('nurses', 4557), ('juanita', 4558), ('ashtray', 4559), ('discourse', 4560), ('packets', 4561), ('disappearing', 4562), ('edgewise', 4563), ('abombs', 4564), ('educating', 4565), ('romantic', 4566), ('movies', 4567), ('puttputt', 4568), ('vaginas', 4569), ('cereal', 4570), ('sec', 4571), ('social', 4572), ('supplies', 4573), ('heating', 4574), ('cheetos', 4575), ('masturbating', 4576), ('constitute', 4577), ('duh', 4578), ('vagina', 4579), ('explaining', 4580), ('potency', 4581), ('mickey', 4582), ('zone', 4583), ('loading', 4584), ('unloading', 4585), ('personnel', 4586), ('trip', 4587), ('redial', 4588), ('dickwad', 4589), ('sideways', 4590), ('nineteen', 4591), ('dollarwise', 4592), ('median', 4593), ('generator', 4594), ('ambition', 4595), ('genny', 4596), ('propane', 4597), ('pieceofcrap', 4598), ('cot', 4599), ('strap', 4600), ('sizzle', 4601), ('dennys', 4602), ('slam', 4603), ('rooms', 4604), ('mechanism', 4605), ('genetic', 4606), ('congenital', 4607), ('imbecility', 4608), ('dumped', 4609), ('snappy', 4610), ('roaming', 4611), ('drains', 4612), ('directions', 4613), ('pencils', 4614), ('west', 4615), ('casino', 4616), ('discovery', 4617), ('mountain', 4618), ('biking', 4619), ('urine', 4620), ('ranger', 4621), ('tasted', 4622), ('freaked', 4623), ('tricklecharge', 4624), ('commutator', 4625), ('electricity', 4626), ('piston', 4627), ('totalled', 4628), ('elbow', 4629), ('grease', 4630), ('spoil', 4631), ('disappoint', 4632), ('shoe', 4633), ('dangerously', 4634), ('ceases', 4635), ('communicate', 4636), ('pumping', 4637), ('marching', 4638), ('flare', 4639), ('homing', 4640), ('dune', 4641), ('buggy', 4642), ('dunebuggy', 4643), ('washers', 4644), ('bolts', 4645), ('screws', 4646), ('wheels', 4647), ('discs', 4648), ('galvanic', 4649), ('mercuric', 4650), ('graphite', 4651), ('terminal', 4652), ('flows', 4653), ('sponge', 4654), ('hydroxide', 4655), ('soaking', 4656), ('conduct', 4657), ('cells', 4658), ('material', 4659), ('lid', 4660), ('teasing', 4661), ('signs', 4662), ('clarify', 4663), ('misconceptions', 4664), ('signifies', 4665), ('classify', 4666), ('determine', 4667), ('iii', 4668), ('shrunk', 4669), ('confused', 4670), ('scarylooking', 4671), ('radiotherapy', 4672), ('prednisone', 4673), ('oesophagus', 4674), ('rupture', 4675), ('inhaler', 4676), ('trick', 4677), ('brownie', 4678), ('obits', 4679), ('occurrence', 4680), ('easily', 4681), ('treated', 4682), ('imply', 4683), ('tumours', 4684), ('bandying', 4685), ('psyched', 4686), ('batter', 4687), ('nonalcoholic', 4688), ('beverage', 4689), ('kindnesses', 4690), ('margarita', 4691), ('champ', 4692), ('sappy', 4693), ('gratitude', 4694), ('regrets', 4695), ('heroes', 4696), ('incredibly', 4697), ('generous', 4698), ('elliot', 4699), ('inspirational', 4700), ('originality', 4701), ('metaphor', 4702), ('analogy', 4703), ('worm', 4704), ('hangovers', 4705), ('glynco', 4706), ('firearm', 4707), ('instructor', 4708), ('livers', 4709), ('bogarting', 4710), ('puppy', 4711), ('huevos', 4712), ('rancheros', 4713), ('fork', 4714), ('churros', 4715), ('leftovers', 4716), ('battling', 4717), ('beauts', 4718), ('thermal', 4719), ('efficiency', 4720), ('tankless', 4721), ('installation', 4722), ('hover', 4723), ('skate', 4724), ('glide', 4725), ('cushion', 4726), ('halfman', 4727), ('halfkangaroo', 4728), ('sidekick', 4729), ('joey', 4730), ('rides', 4731), ('kangaroos', 4732), ('pouches', 4733), ('experimentation', 4734), ('haunches', 4735), ('backwardo', 4736), ('rewindo', 4737), ('reverse', 4738), ('travelling', 4739), ('headphones', 4740), ('drum', 4741), ('unlimited', 4742), ('btus', 4743), ('builtin', 4744), ('corrosionresistant', 4745), ('reducer', 4746), ('thermocouple', 4747), ('adjustments', 4748), ('pool', 4749), ('foolish', 4750), ('drank', 4751), ('tools', 4752), ('misread', 4753), ('protecting', 4754), ('acted', 4755), ('contains', 4756), ('fruiting', 4757), ('fruity', 4758), ('fungus', 4759), ('rampage', 4760), ('collapse', 4761), ('bucking', 4762), ('sheet', 4763), ('invoice', 4764), ('presented', 4765), ('relationships', 4766), ('hormones', 4767), ('postponed', 4768), ('ungrateful', 4769), ('rallied', 4770), ('fullon', 4771), ('causing', 4772), ('trend', 4773), ('foreclosures', 4774), ('fuelled', 4775), ('spike', 4776), ('rapidly', 4777), ('deteriorating', 4778), ('unemployment', 4779), ('climbing', 4780), ('americans', 4781), ('rising', 4782), ('spending', 4783), ('unlikely', 4784), ('rebound', 4785), ('clumsy', 4786), ('organised', 4787), ('containers', 4788), ('stashing', 4789), ('thicker', 4790), ('fuller', 4791), ('grass', 4792), ('greener', 4793), ('pest', 4794), ('extermination', 4795), ('destination', 4796), ('phosphorous', 4797), ('matchbooks', 4798), ('piecemeal', 4799), ('attracts', 4800), ('refinishing', 4801), ('deck', 4802), ('parked', 4803), ('inconspicuous', 4804), ('duke', 4805), ('flowers', 4806), ('flower', 4807), ('disrespect', 4808), ('freebie', 4809), ('blinded', 4810), ('douchebag', 4811), ('abs', 4812), ('punch', 4813), ('obligated', 4814), ('seventyfive', 4815), ('proven', 4816), ('airs', 4817), ('bloodhound', 4818), ('stones', 4819), ('screen', 4820), ('laziest', 4821), ('sneakers', 4822), ('airdry', 4823), ('dryer', 4824), ('casual', 4825), ('federale', 4826), ('wounded', 4827), ('iraq', 4828), ('ieds', 4829), ('oscar', 4830), ('breezy', 4831), ('hangs', 4832), ('montezumas', 4833), ('tinhorn', 4834), ('apocalypse', 4835), ('colonel', 4836), ('kurtz', 4837), ('holed', 4838), ('sac', 4839), ('sends', 4840), ('leadership', 4841), ('trail', 4842), ('motherless', 4843), ('determined', 4844), ('experiential', 4845), ('overlap', 4846), ('frightened', 4847), ('ripped', 4848), ('allnighter', 4849), ('cat', 4850), ('lick', 4851), ('bozos', 4852), ('manipulated', 4853), ('academy', 4854), ('womb', 4855), ('vocal', 4856), ('chords', 4857), ('atwitter', 4858), ('kindergarten', 4859), ('masturbation', 4860), ('allegedly', 4861), ('transpositional', 4862), ('error', 4863), ('witeout', 4864), ('butchers', 4865), ('thumbs', 4866), ('scales', 4867), ('brass', 4868), ('tacks', 4869), ('parish', 4870), ('priest', 4871), ('leader', 4872), ('foursixfivezero', 4873), ('zebra', 4874), ('loanout', 4875), ('legit', 4876), ('tax', 4877), ('visa', 4878), ('fingers', 4879), ('lighten', 4880), ('defense', 4881), ('vitamin', 4882), ('liver', 4883), ('defender', 4884), ('masturbator', 4885), ('epileptic', 4886), ('whorehouse', 4887), ('twoforone', 4888), ('twerp', 4889), ('poof', 4890), ('houdini', 4891), ('loyal', 4892), ('payroll', 4893), ('picking', 4894), ('clientele', 4895), ('cooper', 4896), ('faith', 4897), ('begorra', 4898), ('potatoeater', 4899), ('mcgill', 4900), ('jew', 4901), ('homeboys', 4902), ('pipehitting', 4903), ('member', 4904), ('tribe', 4905), ('digress', 4906), ('ironed', 4907), ('breaker', 4908), ('mixed', 4909), ('heavyhitter', 4910), ('axe', 4911), ('turkey', 4912), ('headfirst', 4913), ('doodoo', 4914), ('pile', 4915), ('paco', 4916), ('rabanne', 4917), ('review', 4918), ('penitentiary', 4919), ('rectum', 4920), ('resized', 4921), ('yay', 4922), ('reprisals', 4923), ('informs', 4924), ('forbid', 4925), ('spouting', 4926), ('witness', 4927), ('protection', 4928), ('vicious', 4929), ('crushing', 4930), ('smooshed', 4931), ('canary', 4932), ('bribe', 4933), ('morally', 4934), ('outraged', 4935), ('spill', 4936), ('exxon', 4937), ('valdez', 4938), ('ignacio', 4939), ('whatshisname', 4940), ('bribes', 4941), ('expired', 4942), ('negotiating', 4943), ('tactic', 4944), ('representation', 4945), ('mosquito', 4946), ('bites', 4947), ('gunning', 4948), ('mosquitos', 4949), ('swatter', 4950), ('proverbial', 4951), ('celine', 4952), ('dion', 4953), ('represented', 4954), ('threat', 4955), ('disbarment', 4956), ('underground', 4957), ('ads', 4958), ('aside', 4959), ('slick', 4960), ('judge', 4961), ('cocky', 4962), ('unnecessary', 4963), ('balder', 4964), ('convicted', 4965), ('innout', 4966), ('clinton', 4967), ('profit', 4968), ('guarantee', 4969), ('unexpected', 4970), ('prosecutions', 4971), ('secondly', 4972), ('facilitating', 4973), ('chow', 4974), ('conscience', 4975), ('exchange', 4976), ('holdup', 4977), ('freeze', 4978), ('textbook', 4979), ('humanities', 4980), ('pl', 4981), ('charged', 4982), ('privileged', 4983), ('shakedown', 4984), ('racket', 4985), ('lawyers', 4986), ('hourly', 4987), ('mattress', 4988), ('jelly', 4989), ('jar', 4990), ('buried', 4991), ('tom', 4992), ('hagen', 4993), ('fredo', 4994), ('introductions', 4995), ('panties', 4996), ('jingle', 4997), ('ginormous', 4998), ('fallujah', 4999), ('receipts', 5000), ('likealways', 5001), ('addictive', 5002), ('sharplike', 5003), ('dagger', 5004), ('chime', 5005), ('jingles', 5006), ('antonio', 5007), ('discomfort', 5008), ('gusto', 5009), ('conocerle', 5010), ('proxima', 5011), ('vez', 5012), ('por', 5013), ('classaction', 5014), ('victims', 5015), ('emotionally', 5016), ('anxiety', 5017), ('sleeplessness', 5018), ('bluff', 5019), ('dared', 5020), ('promised', 5021), ('metallic', 5022), ('butcher', 5023), ('mailman', 5024), ('clinking', 5025), ('conference', 5026), ('aha', 5027), ('screech', 5028), ('screwing', 5029), ('stepdad', 5030), ('cruel', 5031), ('billable', 5032), ('advising', 5033), ('meticulousness', 5034), ('bog', 5035), ('hinted', 5036), ('diligence', 5037), ('stood', 5038), ('ironical', 5039), ('reservation', 5040), ('damp', 5041), ('unplugging', 5042), ('bugs', 5043), ('mike', 5044), ('putty', 5045), ('apiece', 5046), ('stresses', 5047), ('educators', 5048), ('wheaten', 5049), ('terrier', 5050), ('surprising', 5051), ('behavioral', 5052), ('frankly', 5053), ('umnah', 5054), ('dues', 5055), ('pasos', 5056), ('sheriff', 5057), ('taxi', 5058), ('sabbatical', 5059), ('indefinite', 5060), ('unzips', 5061), ('ph', 5062), ('amounts', 5063), ('lend', 5064), ('inferior', 5065), ('diameters', 5066), ('platinum', 5067), ('mercuryaluminum', 5068), ('amalgam', 5069), ('dioxides', 5070), ('struggling', 5071), ('distillation', 5072), ('shoddy', 5073), ('asswad', 5074), ('pro', 5075), ('moaning', 5076), ('evil', 5077), ('ladderclimbing', 5078), ('whore', 5079), ('mildmannered', 5080), ('gasparzas', 5081), ('mustache', 5082), ('function', 5083), ('ummark', 5084), ('vasectomy', 5085), ('walltowall', 5086), ('dirtbags', 5087), ('lookyloo', 5088), ('mnamed', 5089), ('booted', 5090), ('reaching', 5091), ('knockoff', 5092), ('gearing', 5093), ('teeners', 5094), ('sufficiently', 5095), ('stimulated', 5096), ('transfer', 5097), ('thatbro', 5098), ('shoulder', 5099), ('wing', 5100), ('linkas', 5101), ('bolt', 5102), ('peanuts', 5103), ('maniac', 5104), ('bone', 5105), ('contusion', 5106), ('scar', 5107), ('mentally', 5108), ('scythe', 5109), ('ax', 5110), ('motivator', 5111), ('frame', 5112), ('barring', 5113), ('axes', 5114), ('splitsville', 5115), ('unheard', 5116), ('asap', 5117), ('balloon', 5118), ('gasping', 5119), ('hated', 5120), ('wwhats', 5121), ('weeping', 5122), ('lightish', 5123), ('dreamy', 5124), ('wwwhat', 5125), ('piercingsewelry', 5126), ('distinctive', 5127), ('articles', 5128), ('elsabout', 5129), ('knot', 5130), ('kinds', 5131), ('brownish', 5132), ('eggs', 5133), ('pushed', 5134), ('uhyeah', 5135), ('babysit', 5136), ('chuckle', 5137), ('miscalls', 5138), ('pointed', 5139), ('boots', 5140), ('bells', 5141), ('cibola', 5142), ('stations', 5143), ('circuit', 5144), ('snapshots', 5145), ('camper', 5146), ('motor', 5147), ('grunt', 5148), ('interior', 5149), ('fixtures', 5150), ('builtins', 5151), ('suspensions', 5152), ('cleared', 5153), ('stripped', 5154), ('curlies', 5155), ('bookmobile', 5156), ('view', 5157), ('plates', 5158), ('bounders', 5159), ('wrap', 5160), ('assignment', 5161), ('controller', 5162), ('criticized', 5163), ('role', 5164), ('rushed', 5165), ('area', 5166), ('selfinflicted', 5167), ('honks', 5168), ('envy', 5169), ('numeric', 5170), ('hazeltine', 5171), ('eyeballed', 5172), ('headway', 5173), ('sealing', 5174), ('initial', 5175), ('lobectomy', 5176), ('bravenec', 5177), ('surgeons', 5178), ('performing', 5179), ('lobectomies', 5180), ('fulldosage', 5181), ('aggressive', 5182), ('offers', 5183), ('expense', 5184), ('heal', 5185), ('figures', 5186), ('dropping', 5187), ('toss', 5188), ('laying', 5189), ('cali', 5190), ('cred', 5191), ('description', 5192), ('expand', 5193), ('careless', 5194), ('maury', 5195), ('povich', 5196), ('counsellor', 5197), ('professionals', 5198), ('dispute', 5199), ('occupational', 5200), ('hazard', 5201), ('faces', 5202), ('infrastructure', 5203), ('enforcers', 5204), ('payback', 5205), ('peddling', 5206), ('tattooed', 5207), ('treats', 5208), ('iike', 5209), ('highmargin', 5210), ('commodity', 5211), ('ships', 5212), ('mcdonald', 5213), ('tabletops', 5214), ('lands', 5215), ('fist', 5216), ('pump', 5217), ('muellers', 5218), ('alias', 5219), ('programme', 5220), ('kingpin', 5221), ('meals', 5222), ('chumps', 5223), ('anklegrab', 5224), ('waking', 5225), ('dropoff', 5226), ('ultrasound', 5227), ('refrigerator', 5228), ('teds', 5229), ('dean', 5230), ('chinas', 5231), ('undercutting', 5232), ('wax', 5233), ('obscene', 5234), ('fabricators', 5235), ('incorporated', 5236), ('telephoto', 5237), ('lens', 5238), ('jib', 5239), ('nogo', 5240), ('dice', 5241), ('skittish', 5242), ('deer', 5243), ('scrape', 5244), ('handles', 5245), ('lucy', 5246), ('salt', 5247), ('shakers', 5248), ('wiped', 5249), ('diet', 5250), ('confusing', 5251), ('submit', 5252), ('email', 5253), ('familiar', 5254), ('impeccable', 5255), ('factor', 5256), ('moments', 5257), ('instances', 5258), ('underreported', 5259), ('requirement', 5260), ('contracts', 5261), ('anticipate', 5262), ('overestimate', 5263), ('overages', 5264), ('elsewhere', 5265), ('adjust', 5266), ('entries', 5267), ('standpoint', 5268), ('xeroxed', 5269), ('copies', 5270), ('dates', 5271), ('undocumented', 5272), ('peoples', 5273), ('mortgages', 5274), ('pensions', 5275), ('lrs', 5276), ('nub', 5277), ('built', 5278), ('fresno', 5279), ('ma', 5280), ('grandma', 5281), ('choked', 5282), ('coffin', 5283), ('pearlescent', 5284), ('lexus', 5285), ('peace', 5286), ('pipes', 5287), ('gentleman', 5288), ('restaurants', 5289), ('ln', 5290), ('lights', 5291), ('bundle', 5292), ('joy', 5293), ('trouper', 5294), ('toughest', 5295), ('rebirthday', 5296), ('closer', 5297), ('ripping', 5298), ('complex', 5299), ('chopper', 5300), ('sistine', 5301), ('chapel', 5302), ('zits', 5303), ('airmen', 5304), ('kirtland', 5305), ('expectation', 5306), ('introducing', 5307), ('imbecile', 5308), ('uncanny', 5309), ('muy', 5310), ('caliente', 5311), ('dibs', 5312), ('joint', 5313), ('kfc', 5314), ('coleslaw', 5315), ('sisterinlaws', 5316), ('provincial', 5317), ('childproofing', 5318), ('sonar', 5319), ('moneywise', 5320), ('printing', 5321), ('churning', 5322), ('pitches', 5323), ('computers', 5324), ('century', 5325), ('stash', 5326), ('einstein', 5327), ('blasted', 5328), ('onepointtwo', 5329), ('sauls', 5330), ('gay', 5331), ('testing', 5332), ('kits', 5333), ('depend', 5334), ('spitup', 5335), ('hammacher', 5336), ('schlemmer', 5337), ('hypoallergenic', 5338), ('crush', 5339), ('weighing', 5340), ('bankruptcy', 5341), ('pertains', 5342), ('moll', 5343), ('tree', 5344), ('communicating', 5345), ('railroad', 5346), ('imaginary', 5347), ('relative', 5348), ('saves', 5349), ('soliciting', 5350), ('anonymous', 5351), ('cyberbegging', 5352), ('rattling', 5353), ('tin', 5354), ('deepseated', 5355), ('funnelling', 5356), ('singular', 5357), ('mantype', 5358), ('belarus', 5359), ('extraditing', 5360), ('russian', 5361), ('hackercracker', 5362), ('extraordinaire', 5363), ('hijack', 5364), ('random', 5365), ('desktops', 5366), ('bidding', 5367), ('iittle', 5368), ('neat', 5369), ('untraceable', 5370), ('goodhearted', 5371), ('indentured', 5372), ('servant', 5373), ('cotton', 5374), ('owed', 5375), ('preach', 5376), ('preaching', 5377), ('survival', 5378), ('conversing', 5379), ('becky', 5380), ('smackhead', 5381), ('civil', 5382), ('eighteen', 5383), ('backslid', 5384), ('shacking', 5385), ('judgemental', 5386), ('judged', 5387), ('drying', 5388), ('connect', 5389), ('houseplants', 5390), ('letter', 5391), ('recommendation', 5392), ('recalling', 5393), ('dialling', 5394), ('contribute', 5395), ('bminus', 5396), ('clap', 5397), ('erasers', 5398), ('renounce', 5399), ('possessions', 5400), ('monk', 5401), ('extension', 5402), ('largest', 5403), ('animal', 5404), ('iives', 5405), ('tightly', 5406), ('knit', 5407), ('matriarchal', 5408), ('society', 5409), ('ied', 5410), ('herd', 5411), ('elephants', 5412), ('europe', 5413), ('castles', 5414), ('tire', 5415), ('newborns', 5416), ('walmart', 5417), ('played', 5418), ('manned', 5419), ('flights', 5420), ('ostensibly', 5421), ('twentyseven', 5422), ('adult', 5423), ('infantilize', 5424), ('clucking', 5425), ('squawks', 5426), ('rustling', 5427), ('male', 5428), ('interrupt', 5429), ('programming', 5430), ('kob', 5431), ('dozens', 5432), ('albuquerques', 5433), ('scarce', 5434), ('callers', 5435), ('describe', 5436), ('witnessing', 5437), ('overhead', 5438), ('visible', 5439), ('investigators', 5440), ('transportation', 5441), ('onsite', 5442), ('officials', 5443), ('magnitude', 5444), ('cleanup', 5445), ('boeing', 5446), ('rerouted', 5447), ('vectored', 5448), ('airspace', 5449), ('procedure', 5450), ('spokesman', 5451), ('eightseat', 5452), ('charter', 5453), ('utah', 5454), ('amarillo', 5455), ('hail', 5456), ('hailstones', 5457), ('bumpbumpbump', 5458), ('indicating', 5459), ('toll', 5460), ('muertos', 5461), ('midair', 5462), ('safeguards', 5463), ('allegations', 5464), ('bombshell', 5465), ('confirmation', 5466), ('oklahoma', 5467), ('confirmed', 5468), ('lone', 5469), ('controllers', 5470), ('fateful', 5471), ('que', 5472), ('nombre', 5473), ('del', 5474), ('hombre', 5475), ('veteran', 5476), ('faas', 5477), ('route', 5478), ('fiveweek', 5479), ('quote', 5480), ('anchorto', 5481), ('troubled', 5482), ('particularly', 5483), ('grieving', 5484), ('sizzles', 5485), ('crackling', 5486), ('screams', 5487), ('temporarily', 5488), ('beneath', 5489), ('residency', 5490), ('puts', 5491), ('outright', 5492), ('debts', 5493), ('assets', 5494), ('financial', 5495), ('employed', 5496), ('uhtime', 5497), ('tiest', 5498), ('authority', 5499), ('ty', 5500), ('guinness', 5501), ('tactical', 5502), ('retreat', 5503), ('regroup', 5504), ('bong', 5505), ('cinder', 5506), ('blocks', 5507), ('spirit', 5508), ('hatch', 5509), ('selfimprovement', 5510), ('actively', 5511), ('improve', 5512), ('selfacceptance', 5513), ('mailing', 5514), ('beachcomber', 5515), ('pleasant', 5516), ('oakwood', 5517), ('gym', 5518), ('horrors', 5519), ('perceived', 5520), ('roommate', 5521), ('automatic', 5522), ('compassion', 5523), ('judgments', 5524), ('secular', 5525), ('anyhow', 5526), ('boom', 5527), ('plays', 5528), ('airline', 5529), ('airliner', 5530), ('upright', 5531), ('buckled', 5532), ('affect', 5533), ('populated', 5534), ('minor', 5535), ('miracle', 5536), ('twothirds', 5537), ('threequarters', 5538), ('casualtywise', 5539), ('tied', 5540), ('beings', 5541), ('overcome', 5542), ('feedback', 5543), ('tricks', 5544), ('expression', 5545), ('mouths', 5546), ('babes', 5547), ('curiosity', 5548), ('pryings', 5549), ('ratbastard', 5550), ('united', 5551), ('happiness', 5552), ('hears', 5553), ('disappointed', 5554), ('vodka', 5555), ('portsmouth', 5556), ('liquor', 5557), ('supermarkets', 5558), ('clock', 5559), ('ticking', 5560), ('selfhatred', 5561), ('accomplishes', 5562), ('punish', 5563), ('punitive', 5564), ('wave', 5565), ('inhales', 5566), ('se', 5567), ('angles', 5568), ('grant', 5569), ('windshields', 5570), ('friction', 5571), ('spite', 5572), ('narrow', 5573), ('airplane', 5574), ('janes', 5575), ('torn', 5576), ('uptodate', 5577), ('factors', 5578), ('jet', 5579), ('technology', 5580), ('learned', 5581), ('extraordinarily', 5582), ('crossroads', 5583), ('realization', 5584), ('notwithstanding', 5585), ('thumping', 5586), ('lighter', 5587), ('butane', 5588), ('hissing', 5589), ('straining', 5590), ('assuming', 5591), ('mums', 5592), ('recording', 5593), ('hmmhmm', 5594), ('quackquack', 5595), ('oinkoink', 5596), ('agreement', 5597), ('operator', 5598), ('domestic', 5599), ('connecting', 5600), ('assistance', 5601), ('soontobe', 5602), ('exhusband', 5603), ('negra', 5604), ('arroyo', 5605), ('lane', 5606), ('pho', 5607), ('divorced', 5608), ('stammering', 5609), ('legally', 5610), ('locks', 5611), ('whose', 5612), ('title', 5613), ('jointly', 5614), ('requiring', 5615), ('stays', 5616), ('disagreements', 5617), ('attentive', 5618), ('stepped', 5619), ('suspicion', 5620), ('wrongdoing', 5621), ('whyshes', 5622), ('hotline', 5623), ('counseling', 5624), ('housewarming', 5625), ('decor', 5626), ('subtle', 5627), ('minimalist', 5628), ('habits', 5629), ('counsels', 5630), ('sermon', 5631), ('refloat', 5632), ('suggesting', 5633), ('bankroll', 5634), ('maestro', 5635), ('suspense', 5636), ('merkert', 5637), ('favors', 5638), ('aaah', 5639), ('congrats', 5640), ('urinating', 5641), ('pamela', 5642), ('clo', 5643), ('advise', 5644), ('authorize', 5645), ('cooks', 5646), ('internet', 5647), ('sue', 5648), ('ex', 5649), ('parte', 5650), ('nobrainer', 5651), ('whenthings', 5652), ('resolve', 5653), ('shithole', 5654), ('chilis', 5655), ('outback', 5656), ('steakhouse', 5657), ('blooming', 5658), ('spicing', 5659), ('spice', 5660), ('errands', 5661), ('ducks', 5662), ('bartenders', 5663), ('dirtballs', 5664), ('undercover', 5665), ('op', 5666), ('leak', 5667), ('flomax', 5668), ('attacked', 5669), ('tuition', 5670), ('tutor', 5671), ('groceries', 5672), ('graduation', 5673), ('bookkeepers', 5674), ('salary', 5675), ('hato', 5676), ('sacrifices', 5677), ('roast', 5678), ('invited', 5679), ('pitched', 5680), ('whenever', 5681), ('honesty', 5682), ('fucked', 5683), ('lookin', 5684), ('wailing', 5685), ('audible', 5686), ('lowered', 5687), ('speeding', 5688), ('cruise', 5689), ('shattered', 5690), ('wreckage', 5691), ('yoknow', 5692), ('ribbon', 5693), ('aware', 5694), ('responders', 5695), ('citing', 5696), ('damaged', 5697), ('unsafe', 5698), ('decency', 5699), ('remotest', 5700), ('inkling', 5701), ('hellfire', 5702), ('rained', 5703), ('expressing', 5704), ('amendment', 5705), ('lastly', 5706), ('multiple', 5707), ('homicides', 5708), ('laredo', 5709), ('patrols', 5710), ('hideandseek', 5711), ('polleros', 5712), ('acro', 5713), ('driver', 5714), ('illegals', 5715), ('shooters', 5716), ('transporting', 5717), ('narcotics', 5718), ('ths', 5719), ('zetas', 5720), ('juarezstyle', 5721), ('dmz', 5722), ('clearing', 5723), ('borderhopper', 5724), ('extracrispies', 5725), ('countdown', 5726), ('pd', 5727), ('suite', 5728), ('sandblasted', 5729), ('fumigated', 5730), ('increases', 5731), ('resale', 5732), ('value', 5733), ('magazine', 5734), ('redone', 5735), ('tiles', 5736), ('bathrooms', 5737), ('kitchens', 5738), ('granite', 5739), ('countertops', 5740), ('eh', 5741), ('rates', 5742), ('slack', 5743), ('cavanaugh', 5744), ('tper', 5745), ('behavior', 5746), ('disrespectful', 5747), ('divorcing', 5748), ('belt', 5749), ('blowback', 5750), ('blabs', 5751), ('whew', 5752), ('gluesniffers', 5753), ('hobby', 5754), ('paging', 5755), ('phil', 5756), ('rico', 5757), ('bluffing', 5758), ('calamity', 5759), ('interval', 5760), ('sea', 5761), ('circulation', 5762), ('thailand', 5763), ('czech', 5764), ('republic', 5765), ('idle', 5766), ('playthings', 5767), ('revisit', 5768), ('icecream', 5769), ('ohh', 5770), ('uhhuh', 5771), ('dinners', 5772), ('rustle', 5773), ('chopsticks', 5774), ('clicking', 5775), ('ketchup', 5776), ('trans', 5777), ('lifetime', 5778), ('twoday', 5779), ('nearest', 5780), ('ocean', 5781), ('minnow', 5782), ('swimming', 5783), ('fourth', 5784), ('forall', 5785), ('quietly', 5786), ('dancing', 5787), ('underachiever', 5788), ('deadend', 5789), ('cheated', 5790), ('chirps', 5791), ('coverage', 5792), ('prodigal', 5793), ('oyster', 5794), ('unencumbered', 5795), ('heartburn', 5796), ('builds', 5797), ('singlehanded', 5798), ('flushes', 5799), ('michelangelo', 5800), ('grammar', 5801), ('heavily', 5802), ('scribbling', 5803), ('beauty', 5804), ('flexible', 5805), ('brighten', 5806), ('quarterlies', 5807), ('bothering', 5808), ('fixable', 5809), ('headsup', 5810), ('clay', 5811), ('above', 5812), ('understands', 5813), ('wwhy', 5814), ('kkeep', 5815), ('delineate', 5816), ('hent', 5817), ('television', 5818), ('flatfee', 5819), ('todays', 5820), ('nameless', 5821), ('visualize', 5822), ('gardiner', 5823), ('shown', 5824), ('pertinent', 5825), ('financials', 5826), ('notarized', 5827), ('renovations', 5828), ('entertain', 5829), ('hon', 5830), ('allowance', 5831), ('disclosure', 5832), ('statements', 5833), ('termite', 5834), ('inspection', 5835), ('fraud', 5836), ('concealing', 5837), ('openminded', 5838), ('applaud', 5839), ('sneaking', 5840), ('methcontaminated', 5841), ('buyer', 5842), ('uld', 5843), ('encumber', 5844), ('indefinitely', 5845), ('proceedings', 5846), ('counselor', 5847), ('concur', 5848), ('tada', 5849), ('island', 5850), ('hash', 5851), ('adults', 5852), ('havediscussed', 5853), ('ne', 5854), ('dipping', 5855), ('sticks', 5856), ('huffs', 5857), ('restrain', 5858), ('evens', 5859), ('camp', 5860), ('departs', 5861), ('bangs', 5862), ('faint', 5863), ('mutes', 5864), ('speaker', 5865), ('iisten', 5866), ('lnvestigations', 5867), ('primarily', 5868), ('ods', 5869), ('highpriority', 5870), ('incriminate', 5871), ('longsleeved', 5872), ('skim', 5873), ('twentysix', 5874), ('minnesota', 5875), ('montana', 5876), ('vancouver', 5877), ('thankyou', 5878), ('thunder', 5879), ('bay', 5880), ('ontario', 5881), ('ifyoure', 5882), ('donotcall', 5883), ('momentarily', 5884), ('porch', 5885), ('maiden', 5886), ('bishop', 5887), ('intake', 5888), ('arrangements', 5889), ('te', 5890), ('terre', 5891), ('haute', 5892), ('islands', 5893), ('schraderbrau', 5894), ('homebrewed', 5895), ('silky', 5896), ('perfection', 5897), ('smallest', 5898), ('sixpacks', 5899), ('pees', 5900), ('assailant', 5901), ('unfamiliar', 5902), ('nobel', 5903), ('laureate', 5904), ('perchance', 5905), ('dipshit', 5906), ('wannabe', 5907), ('banger', 5908), ('arrests', 5909), ('knights', 5910), ('columbus', 5911), ('manger', 5912), ('lowrep', 5913), ('bueller', 5914), ('slung', 5915), ('babyjesus', 5916), ('slowed', 5917), ('vanished', 5918), ('speck', 5919), ('edward', 5920), ('mastermind', 5921), ('bridge', 5922), ('pudding', 5923), ('hoffa', 5924), ('topshelf', 5925), ('whackamole', 5926), ('smalltown', 5927), ('sheriffs', 5928), ('colorado', 5929), ('regional', 5930), ('thirty', 5931), ('fo', 5932), ('twentyeight', 5933), ('comings', 5934), ('goings', 5935), ('mugged', 5936), ('programs', 5937), ('dark', 5938), ('superbright', 5939), ('sleeves', 5940), ('yawn', 5941), ('noise', 5942), ('disturbing', 5943), ('interview', 5944), ('scottsdale', 5945), ('supervising', 5946), ('andrew', 5947), ('coffman', 5948), ('adobe', 5949), ('hotel', 5950), ('fring', 5951), ('underwriting', 5952), ('supporting', 5953), ('covers', 5954), ('drugrelated', 5955), ('illicit', 5956), ('supervise', 5957), ('focuses', 5958), ('successes', 5959), ('locally', 5960), ('overall', 5961), ('outreach', 5962), ('powerful', 5963), ('rough', 5964), ('lingering', 5965), ('feature', 5966), ('couch', 5967), ('sixty', 5968), ('incredible', 5969), ('written', 5970), ('teaches', 5971), ('relaxes', 5972), ('relief', 5973), ('shortness', 5974), ('margins', 5975), ('foresee', 5976), ('conservatively', 5977), ('routine', 5978), ('ease', 5979), ('independent', 5980), ('stew', 5981), ('downwind', 5982), ('runway', 5983), ('consequences', 5984), ('altimeter', 5985), ('twoninerninereight', 5986), ('pima', 5987), ('altitude', 5988), ('winslow', 5989), ('medicated', 5990), ('answered', 5991), ('strange', 5992), ('hospitals', 5993), ('bible', 5994), ('refused', 5995), ('including', 5996), ('contributed', 5997), ('swears', 5998), ('squawk', 5999), ('via', 6000), ('disregard', 6001), ('kingair', 6002), ('sierraalphaalpha', 6003), ('rela', 6004), ('remaining', 6005), ('equity', 6006), ('twentyfour', 6007), ('assbeating', 6008), ('pulse', 6009), ('ambulance', 6010), ('rid', 6011), ('rats', 6012), ('viewers', 6013), ('albertsons', 6014), ('occasionally', 6015), ('areas', 6016), ('airports', 6017), ('golf', 6018), ('courses', 6019), ('whereve', 6020), ('frustrated', 6021), ('ruto', 6022), ('rute', 6023), ('caddy', 6024), ('basing', 6025), ('wheel', 6026), ('posse', 6027), ('lug', 6028), ('lingo', 6029), ('hip', 6030), ('china', 6031), ('mashed', 6032), ('potatoes', 6033), ('forks', 6034), ('serve', 6035), ('penalty', 6036), ('sessions', 6037), ('chopchop', 6038), ('burns', 6039), ('oldtimers', 6040), ('ranking', 6041), ('burglars', 6042), ('olympics', 6043), ('chem', 6044), ('precursor', 6045), ('pray', 6046), ('realising', 6047), ('tak', 6048), ('feelers', 6049), ('sources', 6050), ('mathematically', 6051), ('castor', 6052), ('beanstalk', 6053), ('escape', 6054), ('rice', 6055), ('doses', 6056), ('overlook', 6057), ('poisoned', 6058), ('assassinate', 6059), ('bulgarian', 6060), ('journalist', 6061), ('kgb', 6062), ('modified', 6063), ('tip', 6064), ('umbrella', 6065), ('inject', 6066), ('tiny', 6067), ('pellet', 6068), ('mans', 6069), ('selfpreservation', 6070), ('downs', 6071), ('forth', 6072), ('shoplifter', 6073), ('daves', 6074), ('disappears', 6075), ('moody', 6076), ('overdrawn', 6077), ('lukewarm', 6078), ('leaks', 6079), ('rustyiooking', 6080), ('rotting', 6081), ('further', 6082), ('spoiled', 6083), ('manages', 6084), ('arrange', 6085), ('asks', 6086), ('user', 6087), ('insanely', 6088), ('snorts', 6089), ('causes', 6090), ('attack', 6091), ('differently', 6092), ('advance', 6093), ('mistak', 6094), ('wives', 6095), ('eep', 6096), ('freaky', 6097), ('bulletheads', 6098), ('knobjobs', 6099), ('psychotic', 6100), ('associating', 6101), ('fresher', 6102), ('lots', 6103), ('coroner', 6104), ('jay', 6105), ('leno', 6106), ('dumbest', 6107), ('shifted', 6108), ('pinned', 6109), ('bled', 6110), ('justice', 6111), ('stumpy', 6112), ('stump', 6113), ('raided', 6114), ('headquarters', 6115), ('lastknown', 6116), ('den', 6117), ('iniquity', 6118), ('methhag', 6119), ('netted', 6120), ('lieutenants', 6121), ('raging', 6122), ('r', 6123), ('tumescent', 6124), ('anticipation', 6125), ('parade', 6126), ('reputed', 6127), ('whacked', 6128), ('paulson', 6129), ('bandidos', 6130), ('wresting', 6131), ('crank', 6132), ('socal', 6133), ('gangs', 6134), ('customarily', 6135), ('rivals', 6136), ('ld', 6137), ('dearly', 6138), ('hats', 6139), ('dirtball', 6140), ('hauled', 6141), ('runs', 6142), ('smug', 6143), ('connection', 6144), ('henchmen', 6145), ('nodozes', 6146), ('juicy', 6147), ('bloody', 6148), ('fingerprint', 6149), ('household', 6150), ('provided', 6151), ('louder', 6152), ('manhunt', 6153), ('tim', 6154), ('sparing', 6155), ('sixtyfive', 6156), ('weigh', 6157), ('weighs', 6158), ('distinguishing', 6159), ('features', 6160), ('moles', 6161), ('scars', 6162), ('interactions', 6163), ('wallet', 6164), ('wandered', 6165), ('cellphone', 6166), ('posters', 6167), ('bewildering', 6168), ('pseudonym', 6169), ('collateral', 6170), ('pouty', 6171), ('snitched', 6172), ('trusted', 6173), ('tense', 6174), ('disappointing', 6175), ('ghetto', 6176), ('birds', 6177), ('ops', 6178), ('gak', 6179), ('headcheese', 6180), ('federales', 6181), ('connections', 6182), ('beaucoup', 6183), ('uproot', 6184), ('flying', 6185), ('gauge', 6186), ('rewrite', 6187), ('menudo', 6188), ('badly', 6189), ('smuggle', 6190), ('sunset', 6191), ('slept', 6192), ('bun', 6193), ('oven', 6194), ('bodes', 6195), ('incoming', 6196), ('chevrolet', 6197), ('addicted', 6198), ('owes', 6199), ('drugdealer', 6200), ('grasping', 6201), ('straws', 6202), ('grasp', 6203), ('motivate', 6204), ('teachers', 6205), ('cared', 6206), ('illness', 6207), ('slightly', 6208), ('leads', 6209), ('forthright', 6210), ('rider', 6211), ('lojack', 6212), ('riders', 6213), ('boost', 6214), ('chauffeuring', 6215), ('doorstep', 6216), ('automatically', 6217), ('bumrush', 6218), ('cbomb', 6219), ('sacrificial', 6220), ('jumping', 6221), ('grenade', 6222), ('established', 6223), ('belly', 6224), ('ding', 6225), ('dementia', 6226), ('lucid', 6227), ('telenovels', 6228), ('ripe', 6229), ('honeys', 6230), ('candy', 6231), ('mamitas', 6232), ('punking', 6233), ('filth', 6234), ('ordeal', 6235), ('worrying', 6236), ('mend', 6237), ('ahole', 6238), ('suffer', 6239), ('carelessness', 6240), ('stove', 6241), ('groucho', 6242), ('dishes', 6243), ('polyphenols', 6244), ('limonoids', 6245), ('hotter', 6246), ('steely', 6247), ('dan', 6248), ('musicianship', 6249), ('band', 6250), ('bands', 6251), ('failed', 6252), ('fiction', 6253), ('writers', 6254), ('seminar', 6255), ('published', 6256), ('regular', 6257), ('overcomplicate', 6258), ('bruce', 6259), ('pursuant', 6260), ('code', 6261), ('hereby', 6262), ('ginnys', 6263), ('residentiary', 6264), ('controlled', 6265), ('cleaned', 6266), ('ruining', 6267), ('drag', 6268), ('authorised', 6269), ('authorities', 6270), ('tweaked', 6271), ('computer', 6272), ('ginny', 6273), ('appointments', 6274), ('decided', 6275), ('homeless', 6276), ('padlock', 6277), ('honking', 6278), ('omelette', 6279), ('chillies', 6280), ('errol', 6281), ('blackout', 6282), ('residence', 6283), ('payperview', 6284), ('provider', 6285), ('testicular', 6286), ('smok', 6287), ('twaughthammer', 6288), ('stucknut', 6289), ('exterminator', 6290), ('tops', 6291), ('aunts', 6292), ('jessamatic', 6293), ('relations', 6294), ('hectic', 6295), ('femalewise', 6296), ('cheevo', 6297), ('anthony', 6298), ('demo', 6299), ('mommys', 6300), ('bombed', 6301), ('hen', 6302), ('spaced', 6303), ('crashing', 6304), ('sucks', 6305), ('bike', 6306), ('preparation', 6307), ('indic', 6308), ('pedal', 6309), ('limits', 6310), ('braking', 6311), ('towed', 6312), ('felonious', 6313), ('upwind', 6314), ('counteroffer', 6315), ('premium', 6316), ('banged', 6317), ('antique', 6318), ('ireland', 6319), ('desire', 6320), ('unavailability', 6321), ('unfaithful', 6322), ('oath', 6323), ('breakfasts', 6324), ('douche', 6325), ('optimal', 6326), ('penalised', 6327), ('sloppiness', 6328), ('uncool', 6329), ('producer', 6330), ('rudimentary', 6331), ('re', 6332), ('growls', 6333), ('participate', 6334), ('champagne', 6335), ('cheap', 6336), ('perignon', 6337), ('drinks', 6338), ('tme', 6339), ('burp', 6340), ('retching', 6341), ('blackmailing', 6342), ('nopaperworktype', 6343), ('moans', 6344), ('giggles', 6345), ('thermostat', 6346), ('invention', 6347), ('extravagant', 6348), ('buick', 6349), ('wha', 6350), ('stoplight', 6351), ('window', 6352), ('plural', 6353), ('escalate', 6354), ('oneman', 6355), ('buttoned', 6356), ('movement', 6357), ('creaks', 6358), ('trailers', 6359), ('vfw', 6360), ('wifes', 6361), ('rvs', 6362), ('vehicles', 6363), ('spoke', 6364), ('blanca', 6365), ('stevens', 6366), ('relieved', 6367), ('bib', 6368), ('nuke', 6369), ('doubts', 6370), ('accusations', 6371), ('recovering', 6372), ('previously', 6373), ('supervision', 6374), ('trusting', 6375), ('mediocre', 6376), ('conclusion', 6377), ('proprietary', 6378), ('selfishness', 6379), ('overweening', 6380), ('overwhelms', 6381), ('clouds', 6382), ('transparent', 6383), ('fatten', 6384), ('umwas', 6385), ('pookums', 6386), ('safer', 6387), ('hardly', 6388), ('eats', 6389), ('facing', 6390), ('catalyst', 6391), ('vessel', 6392), ('liters', 6393), ('receives', 6394), ('deliveries', 6395), ('detergent', 6396), ('suspicious', 6397), ('employees', 6398), ('welltrained', 6399), ('trustworthy', 6400), ('filtration', 6401), ('stateoftheart', 6402), ('vent', 6403), ('odorless', 6404), ('steam', 6405), ('economically', 6406), ('quota', 6407), ('responsibility', 6408), ('appreciated', 6409), ('bears', 6410), ('corners', 6411), ('tofu', 6412), ('excused', 6413), ('homework', 6414), ('videogames', 6415), ('multitask', 6416), ('coos', 6417), ('babbles', 6418), ('cooing', 6419), ('mmhm', 6420), ('andy', 6421), ('welded', 6422), ('classy', 6423), ('chattering', 6424), ('nest', 6425), ('specially', 6426), ('native', 6427), ('hunch', 6428), ('renewed', 6429), ('filed', 6430), ('nonoperational', 6431), ('destroyed', 6432), ('paralyzed', 6433), ('direction', 6434), ('spectacular', 6435), ('gags', 6436), ('lovely', 6437), ('sees', 6438), ('teenage', 6439), ('cantever', 6440), ('drowning', 6441), ('gambit', 6442), ('qualified', 6443), ('accessory', 6444), ('culpable', 6445), ('refuse', 6446), ('marry', 6447), ('parameters', 6448), ('xanax', 6449), ('chiropractor', 6450), ('vietnamese', 6451), ('adjusts', 6452), ('completion', 6453), ('kim', 6454), ('nu', 6455), ('suong', 6456), ('delicious', 6457), ('intercom', 6458), ('accommodation', 6459), ('profits', 6460), ('gesture', 6461), ('valuable', 6462), ('sits', 6463), ('soheres', 6464), ('earnings', 6465), ('parting', 6466), ('expertise', 6467), ('reasonable', 6468), ('shortterm', 6469), ('winner', 6470), ('thisll', 6471), ('drek', 6472), ('affordable', 6473), ('vacation', 6474), ('ideas', 6475), ('mightve', 6476), ('icebreaker', 6477), ('liking', 6478), ('icebreakers', 6479), ('north', 6480), ('pole', 6481), ('stakeout', 6482), ('buzzard', 6483), ('wagon', 6484), ('tbd', 6485), ('gallardo', 6486), ('molina', 6487), ('aka', 6488), ('krazy', 6489), ('cheeseeater', 6490), ('streetlevel', 6491), ('jeffersons', 6492), ('movin', 6493), ('smalltime', 6494), ('snaking', 6495), ('presumed', 6496), ('ratted', 6497), ('normally', 6498), ('snitchs', 6499), ('quantico', 6500), ('swabbed', 6501), ('skillset', 6502), ('emeril', 6503), ('lowfat', 6504), ('mayonnaise', 6505), ('cole', 6506), ('slaw', 6507), ('storebought', 6508), ('pope', 6509), ('tuggie', 6510), ('goodlooking', 6511), ('perspective', 6512), ('charlton', 6513), ('heston', 6514), ('moses', 6515), ('chased', 6516), ('creation', 6517), ('bugging', 6518), ('tightened', 6519), ('stalking', 6520), ('hostess', 6521), ('pretending', 6522), ('ate', 6523), ('everyday', 6524), ('york', 6525), ('puzzle', 6526), ('sevenletter', 6527), ('whatchamacallit', 6528), ('cookout', 6529), ('applications', 6530), ('precautions', 6531), ('complained', 6532), ('headaches', 6533), ('radiologists', 6534), ('team', 6535), ('joining', 6536), ('tarts', 6537), ('imported', 6538), ('hallway', 6539), ('ceiling', 6540), ('settling', 6541), ('caving', 6542), ('bailed', 6543), ('healthwise', 6544), ('sharing', 6545), ('soap', 6546), ('opera', 6547), ('oncologist', 6548), ('nation', 6549), ('hung', 6550), ('pension', 6551), ('mice', 6552), ('whip', 6553), ('comens', 6554), ('booked', 6555), ('disrespected', 6556), ('shitin', 6557), ('hoffmangordonbradley', 6558), ('sorcher', 6559), ('goldbergwayne', 6560), ('ecstatic', 6561), ('brotherman', 6562), ('chick', 6563), ('staceys', 6564), ('barnyard', 6565), ('boohog', 6566), ('flour', 6567), ('lizard', 6568), ('forcing', 6569), ('switching', 6570), ('woodwinds', 6571), ('divided', 6572), ('pemberton', 6573), ('tries', 6574), ('feedbacks', 6575), ('soccer', 6576), ('backyard', 6577), ('patio', 6578), ('uppers', 6579), ('downers', 6580), ('presbyterian', 6581), ('agrees', 6582), ('attend', 6583), ('adam', 6584), ('yearend', 6585), ('assembly', 6586), ('environmental', 6587), ('consciousness', 6588), ('award', 6589), ('recycle', 6590), ('cans', 6591), ('contacted', 6592), ('bleach', 6593), ('article', 6594), ('flute', 6595), ('jethro', 6596), ('tull', 6597), ('warp', 6598), ('freebies', 6599), ('salvation', 6600), ('army', 6601), ('partay', 6602), ('waited', 6603), ('buster', 6604), ('mic', 6605), ('nonsmall', 6606), ('curable', 6607), ('treatable', 6608), ('specific', 6609), ('successful', 6610), ('prolonged', 6611), ('nonexistent', 6612), ('darn', 6613), ('varies', 6614), ('begins', 6615), ('unusually', 6616), ('fatigued', 6617), ('reduced', 6618), ('appetite', 6619), ('intestinal', 6620), ('aches', 6621), ('gums', 6622), ('sore', 6623), ('possibility', 6624), ('counteract', 6625), ('kidney', 6626), ('bladder', 6627), ('irritation', 6628), ('increased', 6629), ('bruising', 6630), ('irritated', 6631), ('ignorance', 6632), ('fools', 6633), ('skunk', 6634), ('discussion', 6635), ('installment', 6636), ('debt', 6637), ('ruling', 6638), ('bonehead', 6639), ('map', 6640), ('main', 6641), ('sworn', 6642), ('props', 6643), ('saver', 6644)])"
            ]
          },
          "metadata": {
            "tags": []
          },
          "execution_count": 22
        }
      ]
    },
    {
      "metadata": {
        "id": "sh8eP0_E5k27",
        "colab_type": "code",
        "colab": {}
      },
      "cell_type": "code",
      "source": [
        ""
      ],
      "execution_count": 0,
      "outputs": []
    }
  ]
}